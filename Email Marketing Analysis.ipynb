{
 "cells": [
  {
   "cell_type": "code",
   "execution_count": 128,
   "metadata": {},
   "outputs": [],
   "source": [
    "import pandas as pd\n",
    "import numpy as np\n",
    "import datetime\n",
    "from dateutil.relativedelta import relativedelta\n",
    "import matplotlib.pyplot as plt\n",
    "%matplotlib inline\n"
   ]
  },
  {
   "cell_type": "code",
   "execution_count": null,
   "metadata": {},
   "outputs": [],
   "source": [
    "#Here are the metrics I provide for campaigns\n",
    "\n",
    "#Clickthrough Rate. \n",
    "#Open Rate. \n",
    "#Conversion Rate. ...\n",
    "#Bounce Rate. ...\n",
    "#List Growth Rate. ...\n",
    "#Email Sharing/Forwarding Rate. ...\n",
    "#Overall ROI. ...\n",
    "#Unsubscribe Rate."
   ]
  },
  {
   "cell_type": "code",
   "execution_count": 28,
   "metadata": {},
   "outputs": [],
   "source": [
    "#pulling in data to dataframe\n",
    "\n",
    "df = pd.read_csv('filtered_dataset.csv')\n"
   ]
  },
  {
   "cell_type": "code",
   "execution_count": 13,
   "metadata": {},
   "outputs": [
    {
     "name": "stdout",
     "output_type": "stream",
     "text": [
      "<class 'pandas.core.frame.DataFrame'>\n",
      "RangeIndex: 42099 entries, 0 to 42098\n",
      "Data columns (total 10 columns):\n",
      " #   Column              Non-Null Count  Dtype         \n",
      "---  ------              --------------  -----         \n",
      " 0   index               42099 non-null  int64         \n",
      " 1   name                42099 non-null  object        \n",
      " 2   account_number      42099 non-null  int64         \n",
      " 3   email_name          42099 non-null  object        \n",
      " 4   sent_date           42099 non-null  object        \n",
      " 5   open_date           34832 non-null  datetime64[ns]\n",
      " 6   click_date          8693 non-null   object        \n",
      " 7   bounce_date         649 non-null    object        \n",
      " 8   transaction_date    902 non-null    object        \n",
      " 9   transaction_amount  889 non-null    float64       \n",
      "dtypes: datetime64[ns](1), float64(1), int64(2), object(6)\n",
      "memory usage: 3.2+ MB\n"
     ]
    }
   ],
   "source": [
    "#checking data for any needed wrangling\n",
    "df.info()"
   ]
  },
  {
   "cell_type": "code",
   "execution_count": 29,
   "metadata": {},
   "outputs": [],
   "source": [
    "#changing dtype for some columns\n",
    "\n",
    "df = df.astype({'open_date':'datetime64', 'click_date':'datetime64', \n",
    "                'bounce_date':'datetime64', 'transaction_date':'datetime64', \n",
    "               'sent_date':'datetime64', 'name':'string', 'email_name':'string'})"
   ]
  },
  {
   "cell_type": "code",
   "execution_count": 30,
   "metadata": {
    "scrolled": true
   },
   "outputs": [
    {
     "name": "stdout",
     "output_type": "stream",
     "text": [
      "<class 'pandas.core.frame.DataFrame'>\n",
      "RangeIndex: 42099 entries, 0 to 42098\n",
      "Data columns (total 10 columns):\n",
      " #   Column              Non-Null Count  Dtype         \n",
      "---  ------              --------------  -----         \n",
      " 0   index               42099 non-null  int64         \n",
      " 1   name                42099 non-null  string        \n",
      " 2   account_number      42099 non-null  int64         \n",
      " 3   email_name          42099 non-null  string        \n",
      " 4   sent_date           42099 non-null  datetime64[ns]\n",
      " 5   open_date           34832 non-null  datetime64[ns]\n",
      " 6   click_date          8693 non-null   datetime64[ns]\n",
      " 7   bounce_date         649 non-null    datetime64[ns]\n",
      " 8   transaction_date    902 non-null    datetime64[ns]\n",
      " 9   transaction_amount  889 non-null    float64       \n",
      "dtypes: datetime64[ns](5), float64(1), int64(2), string(2)\n",
      "memory usage: 3.2 MB\n"
     ]
    }
   ],
   "source": [
    "df.info()"
   ]
  },
  {
   "cell_type": "code",
   "execution_count": 36,
   "metadata": {},
   "outputs": [
    {
     "data": {
      "text/plain": [
       "<StringArray>\n",
       "[                                'Email 1 - Welcome to Wanderlust Adventures',\n",
       "                                     'Email 2 - Offers tailored just for you',\n",
       " 'Email 3 - Don’t miss out on your next adventures, book now and get 20% off',\n",
       "                        'Email 4 - Thanks for choosing Wanderlust Adventures']\n",
       "Length: 4, dtype: string"
      ]
     },
     "execution_count": 36,
     "metadata": {},
     "output_type": "execute_result"
    }
   ],
   "source": [
    "#the company sent 4 emails \n",
    "df['email_name'].unique()"
   ]
  },
  {
   "cell_type": "code",
   "execution_count": 39,
   "metadata": {},
   "outputs": [
    {
     "data": {
      "text/plain": [
       "email_name\n",
       "Email 1 - Welcome to Wanderlust Adventures                                    10750\n",
       "Email 2 - Offers tailored just for you                                        14332\n",
       "Email 3 - Don’t miss out on your next adventures, book now and get 20% off    10747\n",
       "Email 4 - Thanks for choosing Wanderlust Adventures                            6270\n",
       "Name: name, dtype: int64"
      ]
     },
     "execution_count": 39,
     "metadata": {},
     "output_type": "execute_result"
    }
   ],
   "source": [
    "# the emails were sent to the following number of recipients\n",
    "df.groupby('email_name')['name'].count()"
   ]
  },
  {
   "cell_type": "code",
   "execution_count": 157,
   "metadata": {},
   "outputs": [],
   "source": [
    "#Creating functions to be used in analysis\n",
    "#Clickthrough Rate. \n",
    "def ctr_calc_total(email):\n",
    "    total_emails = len(df[df['email_name'].str.contains( email)])\n",
    "    opened_emails = len(df[df['email_name'].str.contains( 'Email 1') & df['open_date'].isnull() == True])\n",
    "    return opened_emails/total_emails\n",
    "\n",
    "def ctr_calc_MoM(email, current_month_var):\n",
    "    months = {'January': 1, 'February':2, 'March':3, 'April':4, 'May':5, 'June':6,\n",
    "             'July': 7, 'August':8, 'September':9, 'October':10, 'November':11, 'December':12}\n",
    "    current_month = months[current_month_var]\n",
    "    total_emails = len(df[df['email_name'].str.contains(email) & (df['sent_date'].dt.month == current_month)])\n",
    "    opened_emails = len(df[df['email_name'].str.contains(email) & (df['open_date'].isnull() == True) & (df['sent_date'].dt.month == current_month)])\n",
    "    \n",
    "    prev_total_emails = len(df[df['email_name'].str.contains(email) & (df['sent_date'].dt.month == current_month - 1)])\n",
    "    prev_opened_emails = len(df[df['email_name'].str.contains(email) & (df['open_date'].isnull() == True) & (df['sent_date'].dt.month == current_month -1)])\n",
    "    return {'date':current_month_var, 'month':opened_emails/total_emails, \n",
    "            'previous_month':prev_opened_emails/prev_total_emails, \n",
    "           '% change': round(((opened_emails-prev_opened_emails)/prev_total_emails) * 100, 2)}\n",
    "\n",
    "def ctr_calc_MoM_PY(email, current_month_var, current_year):\n",
    "    months = {'January': 1, 'February':2, 'March':3, 'April':4, 'May':5, 'June':6,\n",
    "             'July': 7, 'August':8, 'September':9, 'October':10, 'November':11, 'December':12}\n",
    "    current_month = months[current_month_var]\n",
    "    total_emails = len(df[df['email_name'].str.contains(email) & (df['sent_date'].dt.month == current_month) & (df['sent_date'].dt.year == current_year)] )\n",
    "    opened_emails = len(df[df['email_name'].str.contains(email) & (df['open_date'].isnull() == True) & (df['sent_date'].dt.month == current_month) & (df['sent_date'].dt.year == current_year) ])\n",
    "    \n",
    "    prev_total_emails = len(df[df['email_name'].str.contains(email) & (df['sent_date'].dt.month == current_month - 1) & (df['sent_date'].dt.year == current_year -1)])\n",
    "    prev_opened_emails = len(df[df['email_name'].str.contains(email) & (df['open_date'].isnull() == True) & (df['sent_date'].dt.month == current_month -1) & (df['sent_date'].dt.year == current_year -1)])\n",
    "    return {'Date': current_month_var + \" \" + str(current_year),  'current':opened_emails/total_emails, 'previous':prev_opened_emails/prev_total_emails}\n",
    "\n",
    "def ctr_calc_YTD_PYTD(email):\n",
    "    temp_date = pd.to_datetime(datetime.date.today())\n",
    "    total_emails = len(df[df['email_name'].str.contains(email) & \n",
    "                          (df['sent_date'] <= temp_date)] )\n",
    "    opened_emails = len(df[df['email_name'].str.contains(email) & \n",
    "                           (df['open_date'].isnull() == True) & \n",
    "                          (df['sent_date'] <= temp_date )  ])\n",
    "    prev_total_emails = len(df[df['email_name'].str.contains(email) & \n",
    "                          (df['sent_date'] <= temp_date - relativedelta(years=1))] )\n",
    "    prev_opened_emails = len(df[df['email_name'].str.contains(email) & \n",
    "                           (df['open_date'].isnull() == True) & \n",
    "                          (df['sent_date'] <= temp_date - relativedelta(years=1))  ])\n",
    "    return {'Date': datetime.date.today().year, \n",
    "            'current':opened_emails/total_emails, \n",
    "            'previous':prev_opened_emails/prev_total_emails}"
   ]
  },
  {
   "cell_type": "code",
   "execution_count": 158,
   "metadata": {},
   "outputs": [
    {
     "data": {
      "text/plain": [
       "{'date': 'April',\n",
       " 'month': 0.11015625,\n",
       " 'previous_month': 0.1252072968490879,\n",
       " '% change': -0.83}"
      ]
     },
     "execution_count": 158,
     "metadata": {},
     "output_type": "execute_result"
    }
   ],
   "source": [
    "ctr_calc_MoM('Email 2', 'April')"
   ]
  },
  {
   "cell_type": "code",
   "execution_count": 108,
   "metadata": {},
   "outputs": [
    {
     "data": {
      "text/plain": [
       "{'Date': 'April 2022',\n",
       " 'current': 0.12962962962962962,\n",
       " 'previous': 0.15447154471544716}"
      ]
     },
     "execution_count": 108,
     "metadata": {},
     "output_type": "execute_result"
    }
   ],
   "source": [
    "ctr_calc_MoM_PY('Email 2', 'April', 2022)"
   ]
  },
  {
   "cell_type": "code",
   "execution_count": 150,
   "metadata": {},
   "outputs": [
    {
     "data": {
      "text/plain": [
       "{'Date': 2023, 'current': 0.2269470549920908, 'previous': 0.22714029583146572}"
      ]
     },
     "execution_count": 150,
     "metadata": {},
     "output_type": "execute_result"
    }
   ],
   "source": [
    "ctr_calc_YTD_PYTD(\"Email 3\")"
   ]
  },
  {
   "cell_type": "code",
   "execution_count": 126,
   "metadata": {},
   "outputs": [
    {
     "name": "stdout",
     "output_type": "stream",
     "text": [
      "2019-01-01 08:13:00 2023-08-31 19:24:00\n"
     ]
    }
   ],
   "source": [
    "ctr_calc_YTD_PYTD(\"Email 3\")"
   ]
  },
  {
   "cell_type": "code",
   "execution_count": 42,
   "metadata": {},
   "outputs": [
    {
     "data": {
      "text/plain": [
       "17916"
      ]
     },
     "execution_count": 42,
     "metadata": {},
     "output_type": "execute_result"
    }
   ],
   "source": [
    "df.name.nunique()"
   ]
  },
  {
   "cell_type": "code",
   "execution_count": 44,
   "metadata": {
    "scrolled": true
   },
   "outputs": [
    {
     "name": "stdout",
     "output_type": "stream",
     "text": [
      "2019-01-01 07:13:00 2023-08-31 23:22:00\n"
     ]
    }
   ],
   "source": [
    "print(df.sent_date.min(), df.sent_date.max())"
   ]
  },
  {
   "cell_type": "code",
   "execution_count": 132,
   "metadata": {},
   "outputs": [
    {
     "name": "stdout",
     "output_type": "stream",
     "text": [
      "2017-01-01 07:13:00\n"
     ]
    }
   ],
   "source": [
    "print(df.sent_date.min() - relativedelta(years=2))"
   ]
  },
  {
   "cell_type": "code",
   "execution_count": 196,
   "metadata": {},
   "outputs": [
    {
     "name": "stdout",
     "output_type": "stream",
     "text": [
      "Email 1 clickthrough rate: 0.24\n",
      "Email 2 clickthrough rate: 0.28\n",
      "Email 3 clickthrough rate: 0.09\n",
      "Email 4 clickthrough rate: 0.19\n"
     ]
    }
   ],
   "source": [
    "#lets get the clickthrough rate\n",
    "\n",
    "#we need the total number of unique clicks\n",
    "clicked = df.groupby('email_name')['click_date'].nunique()\n",
    "\n",
    "#then you need the count of emails sent\n",
    "sent = df.groupby('email_name')['sent_date'].count()\n",
    "\n",
    "#loop to iterate over answers\n",
    "for i in range(len(sent)):\n",
    "    print(('Email {} clickthrough rate: {}').format(i+1, round(clicked[i]/sent[i], 2)))"
   ]
  },
  {
   "cell_type": "code",
   "execution_count": 192,
   "metadata": {},
   "outputs": [
    {
     "name": "stdout",
     "output_type": "stream",
     "text": [
      "Email 1 open rate: 0.85\n",
      "Email 2 open rate: 0.88\n",
      "Email 3 open rate: 0.77\n",
      "Email 4 open rate: 0.77\n"
     ]
    }
   ],
   "source": [
    "#to get the ope rate you need the count of sent emails\n",
    "sent = df.groupby('email_name')['sent_date'].count()\n",
    "\n",
    "#you also need a count of open emails \n",
    "opened =df.groupby('email_name')['open_date'].count()\n",
    "\n",
    "#loop to iterate over answers\n",
    "for i in range(len(sent)):\n",
    "    print(('Email {} open rate: {}').format(i+1, round(opened[i]/sent[i], 2)))\n"
   ]
  },
  {
   "cell_type": "code",
   "execution_count": 169,
   "metadata": {},
   "outputs": [
    {
     "data": {
      "text/plain": [
       "2021-06-12 17:07:00    2\n",
       "2019-09-13 17:07:00    2\n",
       "2019-01-02 22:48:00    2\n",
       "2022-04-19 03:29:00    2\n",
       "2021-07-20 16:10:00    2\n",
       "                      ..\n",
       "2020-12-29 14:10:00    1\n",
       "2021-04-12 15:17:00    1\n",
       "2023-02-07 05:58:00    1\n",
       "2020-11-03 04:36:00    1\n",
       "2020-07-12 16:21:00    1\n",
       "Name: open_date, Length: 34585, dtype: int64"
      ]
     },
     "execution_count": 169,
     "metadata": {},
     "output_type": "execute_result"
    }
   ],
   "source": [
    "df.open_date.value_counts()"
   ]
  },
  {
   "cell_type": "code",
   "execution_count": 207,
   "metadata": {
    "scrolled": true
   },
   "outputs": [
    {
     "name": "stdout",
     "output_type": "stream",
     "text": [
      "Email 1 conversion rate: 0.02\n",
      "Email 2 conversion rate: 0.04\n",
      "Email 3 conversion rate: 0.01\n",
      "Email 4 conversion rate: 0.01\n"
     ]
    }
   ],
   "source": [
    "#conversion rate\n",
    "\n",
    "#There are some rows with no open or click, but a transaction date. We are not going to use these for conversion\n",
    "# df[(df.transaction_amount.isnull() == True) & (df.transaction_date.isnull() == False )]\n",
    "\n",
    "df_conv = df[~(df.transaction_amount.isnull() == True) & (df.transaction_date.isnull() == False )]\n",
    "\n",
    "sent = df.groupby('email_name')['sent_date'].count()\n",
    "\n",
    "#you also need a count of open emails \n",
    "converts =df_conv.groupby('email_name')['transaction_date'].nunique()\n",
    "\n",
    "#loop to iterate over answers\n",
    "for i in range(len(sent)):\n",
    "    print(('Email {} conversion rate: {}').format(i+1, round(converts[i]/sent[i], 2)))\n"
   ]
  },
  {
   "cell_type": "code",
   "execution_count": 208,
   "metadata": {},
   "outputs": [
    {
     "name": "stdout",
     "output_type": "stream",
     "text": [
      "Email 1 bounce rate: 0.02\n",
      "Email 2 bounce rate: 0.02\n",
      "Email 3 bounce rate: 0.02\n",
      "Email 4 bounce rate: 0.01\n"
     ]
    }
   ],
   "source": [
    "#Bounce rate\n",
    "\n",
    "\n",
    "sent = df.groupby('email_name')['sent_date'].count()\n",
    "\n",
    "#you also need a count of open emails \n",
    "bounce =df.groupby('email_name')['bounce_date'].nunique()\n",
    "\n",
    "#loop to iterate over answers\n",
    "for i in range(len(sent)):\n",
    "    print(('Email {} bounce rate: {}').format(i+1, round(bounce[i]/sent[i], 2)))"
   ]
  },
  {
   "cell_type": "code",
   "execution_count": 330,
   "metadata": {},
   "outputs": [
    {
     "name": "stdout",
     "output_type": "stream",
     "text": [
      "name\n",
      "Troy Long            2276.00\n",
      "Ashley Fields        2214.98\n",
      "Jessica Rivers       2182.44\n",
      "Michelle Robinson    2061.90\n",
      "Alicia Lynch         1930.10\n",
      "                      ...   \n",
      "Patricia Stewart      605.55\n",
      "Cynthia Hall          605.46\n",
      "Joshua Alvarez        604.24\n",
      "Paul Allen            603.20\n",
      "Laura Nelson DDS      601.92\n",
      "Name: transaction_amount, Length: 881, dtype: float64\n"
     ]
    },
    {
     "data": {
      "text/plain": [
       "(array([204., 171., 185., 185., 128.,   1.,   2.,   1.,   1.,   3.]),\n",
       " array([ 601.92 ,  769.328,  936.736, 1104.144, 1271.552, 1438.96 ,\n",
       "        1606.368, 1773.776, 1941.184, 2108.592, 2276.   ]),\n",
       " <a list of 10 Patch objects>)"
      ]
     },
     "execution_count": 330,
     "metadata": {},
     "output_type": "execute_result"
    },
    {
     "data": {
      "image/png": "[encoded data removed]",
      "text/plain": [
       "<Figure size 432x288 with 1 Axes>"
      ]
     },
     "metadata": {
      "needs_background": "light"
     },
     "output_type": "display_data"
    }
   ],
   "source": [
    "#now lets look at revenue related metrics\n",
    "\n",
    "#revenue per user function\n",
    "\n",
    "revbyuser = df[df.transaction_amount > 0].groupby('name')['transaction_amount'].sum().sort_values(ascending=False)\n",
    "print(revbyuser)\n",
    "plt.hist(revbyuser, bins=10)"
   ]
  },
  {
   "cell_type": "code",
   "execution_count": 215,
   "metadata": {},
   "outputs": [
    {
     "data": {
      "text/plain": [
       "email_name\n",
       "Email 2 - Offers tailored just for you                                        531259.45\n",
       "Email 1 - Welcome to Wanderlust Adventures                                    177967.20\n",
       "Email 3 - Don’t miss out on your next adventures, book now and get 20% off    123289.49\n",
       "Email 4 - Thanks for choosing Wanderlust Adventures                            45676.48\n",
       "Name: transaction_amount, dtype: float64"
      ]
     },
     "execution_count": 215,
     "metadata": {},
     "output_type": "execute_result"
    }
   ],
   "source": [
    "#revenue by email \n",
    "df.groupby('email_name')['transaction_amount'].sum().sort_values(ascending=False)"
   ]
  },
  {
   "cell_type": "code",
   "execution_count": null,
   "metadata": {},
   "outputs": [],
   "source": [
    "#dding columns for day, month and year separately\n",
    "df['month'] = pd.DatetimeIndex(df['transaction_date']).month\n",
    "df['year'] = pd.DatetimeIndex(df['transaction_date']).year\n",
    "df['day'] = pd.DatetimeIndex(df['transaction_date']).day\n"
   ]
  },
  {
   "cell_type": "code",
   "execution_count": 302,
   "metadata": {},
   "outputs": [
    {
     "name": "stdout",
     "output_type": "stream",
     "text": [
      "year\n",
      "2022.0    195747.89\n",
      "2021.0    192115.66\n",
      "2019.0    174246.71\n",
      "2020.0    169313.80\n",
      "2023.0    146768.56\n",
      "Name: transaction_amount, dtype: float64\n"
     ]
    },
    {
     "data": {
      "image/png": "[encoded data removed]",
      "text/plain": [
       "<Figure size 432x288 with 1 Axes>"
      ]
     },
     "metadata": {
      "needs_background": "light"
     },
     "output_type": "display_data"
    }
   ],
   "source": [
    "#revenue by year\n",
    "rev_per_year = df.groupby('year')['transaction_amount'].sum().sort_values(ascending=False)\n",
    "print(rev_per_year)\n",
    "plt.bar(rev_per_year.keys(), rev_per_year)\n",
    "plt.show()"
   ]
  },
  {
   "cell_type": "code",
   "execution_count": 307,
   "metadata": {
    "scrolled": false
   },
   "outputs": [
    {
     "name": "stdout",
     "output_type": "stream",
     "text": [
      "month\n",
      "7.0     92876.29\n",
      "4.0     83891.35\n",
      "8.0     83010.92\n",
      "9.0     81612.32\n",
      "5.0     78498.59\n",
      "6.0     77294.71\n",
      "3.0     72205.45\n",
      "1.0     71708.87\n",
      "10.0    69534.19\n",
      "12.0    57929.24\n",
      "2.0     55885.39\n",
      "11.0    53745.30\n",
      "Name: transaction_amount, dtype: float64\n"
     ]
    },
    {
     "data": {
      "image/png": "[encoded data removed]",
      "text/plain": [
       "<Figure size 432x288 with 1 Axes>"
      ]
     },
     "metadata": {
      "needs_background": "light"
     },
     "output_type": "display_data"
    }
   ],
   "source": [
    "#revenue by month\n",
    "\n",
    "rev_per_month = df.groupby('month')['transaction_amount'].sum().sort_values(ascending=False)\n",
    "print(rev_per_month)\n",
    "plt.bar(rev_per_month.keys(), rev_per_month)\n",
    "plt.show()"
   ]
  },
  {
   "cell_type": "code",
   "execution_count": 310,
   "metadata": {},
   "outputs": [
    {
     "data": {
      "text/plain": [
       "year    month  email_name                                                                \n",
       "2019.0  1.0    Email 1 - Welcome to Wanderlust Adventures                                      780.65\n",
       "               Email 2 - Offers tailored just for you                                         3812.28\n",
       "        2.0    Email 1 - Welcome to Wanderlust Adventures                                     1015.24\n",
       "               Email 2 - Offers tailored just for you                                         5053.64\n",
       "               Email 3 - Don’t miss out on your next adventures, book now and get 20% off     2544.37\n",
       "                                                                                               ...   \n",
       "2023.0  8.0    Email 2 - Offers tailored just for you                                        15794.64\n",
       "               Email 3 - Don’t miss out on your next adventures, book now and get 20% off     4041.16\n",
       "        9.0    Email 1 - Welcome to Wanderlust Adventures                                     2897.35\n",
       "               Email 2 - Offers tailored just for you                                         8163.85\n",
       "               Email 3 - Don’t miss out on your next adventures, book now and get 20% off     1484.66\n",
       "Name: transaction_amount, Length: 196, dtype: float64"
      ]
     },
     "execution_count": 310,
     "metadata": {},
     "output_type": "execute_result"
    }
   ],
   "source": [
    "#revenue per email by month\n",
    "df.groupby(['year','month', 'email_name'])['transaction_amount'].sum()\n"
   ]
  },
  {
   "cell_type": "code",
   "execution_count": 327,
   "metadata": {},
   "outputs": [
    {
     "data": {
      "image/png": "[encoded data removed]",
      "text/plain": [
       "<Figure size 1008x576 with 1 Axes>"
      ]
     },
     "metadata": {
      "needs_background": "light"
     },
     "output_type": "display_data"
    }
   ],
   "source": [
    "#revenue by day\n",
    "rev_by_day = df.groupby('transaction_date')['transaction_amount'].sum().sort_values(ascending=False)\n",
    "plt.figure(figsize=(14,8))\n",
    "\n",
    "plt.bar(rev_by_day.keys(), rev_by_day, width=2)\n",
    "plt.show()"
   ]
  },
  {
   "cell_type": "code",
   "execution_count": null,
   "metadata": {},
   "outputs": [],
   "source": []
  },
  {
   "cell_type": "code",
   "execution_count": 274,
   "metadata": {
    "scrolled": true
   },
   "outputs": [
    {
     "data": {
      "text/html": [
       "<div>\n",
       "<style scoped>\n",
       "    .dataframe tbody tr th:only-of-type {\n",
       "        vertical-align: middle;\n",
       "    }\n",
       "\n",
       "    .dataframe tbody tr th {\n",
       "        vertical-align: top;\n",
       "    }\n",
       "\n",
       "    .dataframe thead th {\n",
       "        text-align: right;\n",
       "    }\n",
       "</style>\n",
       "<table border=\"1\" class=\"dataframe\">\n",
       "  <thead>\n",
       "    <tr style=\"text-align: right;\">\n",
       "      <th></th>\n",
       "      <th>index</th>\n",
       "      <th>name</th>\n",
       "      <th>account_number</th>\n",
       "      <th>email_name</th>\n",
       "      <th>sent_date</th>\n",
       "      <th>open_date</th>\n",
       "      <th>click_date</th>\n",
       "      <th>bounce_date</th>\n",
       "      <th>transaction_date</th>\n",
       "      <th>transaction_amount</th>\n",
       "      <th>month</th>\n",
       "    </tr>\n",
       "  </thead>\n",
       "  <tbody>\n",
       "    <tr>\n",
       "      <th>0</th>\n",
       "      <td>0</td>\n",
       "      <td>Brian Harris</td>\n",
       "      <td>84256863</td>\n",
       "      <td>Email 1 - Welcome to Wanderlust Adventures</td>\n",
       "      <td>2021-11-11 22:24:00</td>\n",
       "      <td>2021-11-11 22:47:00</td>\n",
       "      <td>2021-11-11 22:51:00</td>\n",
       "      <td>NaT</td>\n",
       "      <td>NaT</td>\n",
       "      <td>NaN</td>\n",
       "      <td>NaN</td>\n",
       "    </tr>\n",
       "    <tr>\n",
       "      <th>1</th>\n",
       "      <td>4</td>\n",
       "      <td>Travis Gibson</td>\n",
       "      <td>87296226</td>\n",
       "      <td>Email 1 - Welcome to Wanderlust Adventures</td>\n",
       "      <td>2022-12-05 16:20:00</td>\n",
       "      <td>2022-12-05 16:25:00</td>\n",
       "      <td>NaT</td>\n",
       "      <td>NaT</td>\n",
       "      <td>NaT</td>\n",
       "      <td>NaN</td>\n",
       "      <td>NaN</td>\n",
       "    </tr>\n",
       "    <tr>\n",
       "      <th>2</th>\n",
       "      <td>8</td>\n",
       "      <td>Hector Hurst</td>\n",
       "      <td>14429475</td>\n",
       "      <td>Email 1 - Welcome to Wanderlust Adventures</td>\n",
       "      <td>2022-03-10 06:23:00</td>\n",
       "      <td>2022-03-10 07:13:00</td>\n",
       "      <td>NaT</td>\n",
       "      <td>NaT</td>\n",
       "      <td>NaT</td>\n",
       "      <td>NaN</td>\n",
       "      <td>NaN</td>\n",
       "    </tr>\n",
       "    <tr>\n",
       "      <th>3</th>\n",
       "      <td>12</td>\n",
       "      <td>Stephanie Scott</td>\n",
       "      <td>12583440</td>\n",
       "      <td>Email 1 - Welcome to Wanderlust Adventures</td>\n",
       "      <td>2022-07-05 15:10:00</td>\n",
       "      <td>2022-07-05 15:40:00</td>\n",
       "      <td>NaT</td>\n",
       "      <td>NaT</td>\n",
       "      <td>NaT</td>\n",
       "      <td>NaN</td>\n",
       "      <td>NaN</td>\n",
       "    </tr>\n",
       "    <tr>\n",
       "      <th>4</th>\n",
       "      <td>16</td>\n",
       "      <td>Hunter Jensen</td>\n",
       "      <td>46846333</td>\n",
       "      <td>Email 1 - Welcome to Wanderlust Adventures</td>\n",
       "      <td>2020-01-23 17:58:00</td>\n",
       "      <td>NaT</td>\n",
       "      <td>NaT</td>\n",
       "      <td>NaT</td>\n",
       "      <td>NaT</td>\n",
       "      <td>NaN</td>\n",
       "      <td>NaN</td>\n",
       "    </tr>\n",
       "    <tr>\n",
       "      <th>5</th>\n",
       "      <td>20</td>\n",
       "      <td>Timothy Hartman</td>\n",
       "      <td>94388384</td>\n",
       "      <td>Email 1 - Welcome to Wanderlust Adventures</td>\n",
       "      <td>2020-12-24 09:57:00</td>\n",
       "      <td>NaT</td>\n",
       "      <td>NaT</td>\n",
       "      <td>NaT</td>\n",
       "      <td>NaT</td>\n",
       "      <td>NaN</td>\n",
       "      <td>NaN</td>\n",
       "    </tr>\n",
       "    <tr>\n",
       "      <th>6</th>\n",
       "      <td>24</td>\n",
       "      <td>Jaime Lee</td>\n",
       "      <td>40286567</td>\n",
       "      <td>Email 1 - Welcome to Wanderlust Adventures</td>\n",
       "      <td>2020-04-25 11:28:00</td>\n",
       "      <td>NaT</td>\n",
       "      <td>NaT</td>\n",
       "      <td>NaT</td>\n",
       "      <td>NaT</td>\n",
       "      <td>NaN</td>\n",
       "      <td>NaN</td>\n",
       "    </tr>\n",
       "    <tr>\n",
       "      <th>7</th>\n",
       "      <td>28</td>\n",
       "      <td>Brian Chang</td>\n",
       "      <td>12419780</td>\n",
       "      <td>Email 1 - Welcome to Wanderlust Adventures</td>\n",
       "      <td>2020-01-16 18:46:00</td>\n",
       "      <td>2020-01-16 18:53:00</td>\n",
       "      <td>NaT</td>\n",
       "      <td>NaT</td>\n",
       "      <td>NaT</td>\n",
       "      <td>NaN</td>\n",
       "      <td>NaN</td>\n",
       "    </tr>\n",
       "    <tr>\n",
       "      <th>8</th>\n",
       "      <td>32</td>\n",
       "      <td>Edwin Hall</td>\n",
       "      <td>16545747</td>\n",
       "      <td>Email 1 - Welcome to Wanderlust Adventures</td>\n",
       "      <td>2023-08-08 01:52:00</td>\n",
       "      <td>2023-08-08 02:10:00</td>\n",
       "      <td>NaT</td>\n",
       "      <td>NaT</td>\n",
       "      <td>NaT</td>\n",
       "      <td>NaN</td>\n",
       "      <td>NaN</td>\n",
       "    </tr>\n",
       "    <tr>\n",
       "      <th>9</th>\n",
       "      <td>36</td>\n",
       "      <td>Donald Mccoy</td>\n",
       "      <td>94194334</td>\n",
       "      <td>Email 1 - Welcome to Wanderlust Adventures</td>\n",
       "      <td>2019-02-26 12:08:00</td>\n",
       "      <td>2019-02-26 12:38:00</td>\n",
       "      <td>NaT</td>\n",
       "      <td>NaT</td>\n",
       "      <td>NaT</td>\n",
       "      <td>NaN</td>\n",
       "      <td>NaN</td>\n",
       "    </tr>\n",
       "    <tr>\n",
       "      <th>10</th>\n",
       "      <td>40</td>\n",
       "      <td>Sarah Bell</td>\n",
       "      <td>73431902</td>\n",
       "      <td>Email 1 - Welcome to Wanderlust Adventures</td>\n",
       "      <td>2019-11-10 17:33:00</td>\n",
       "      <td>2019-11-10 18:24:00</td>\n",
       "      <td>NaT</td>\n",
       "      <td>NaT</td>\n",
       "      <td>NaT</td>\n",
       "      <td>NaN</td>\n",
       "      <td>NaN</td>\n",
       "    </tr>\n",
       "    <tr>\n",
       "      <th>11</th>\n",
       "      <td>44</td>\n",
       "      <td>Daniel Garcia</td>\n",
       "      <td>68509782</td>\n",
       "      <td>Email 1 - Welcome to Wanderlust Adventures</td>\n",
       "      <td>2022-05-21 03:58:00</td>\n",
       "      <td>2022-05-21 04:21:00</td>\n",
       "      <td>NaT</td>\n",
       "      <td>NaT</td>\n",
       "      <td>NaT</td>\n",
       "      <td>NaN</td>\n",
       "      <td>NaN</td>\n",
       "    </tr>\n",
       "    <tr>\n",
       "      <th>12</th>\n",
       "      <td>48</td>\n",
       "      <td>John Montgomery</td>\n",
       "      <td>3007767</td>\n",
       "      <td>Email 1 - Welcome to Wanderlust Adventures</td>\n",
       "      <td>2020-05-10 13:54:00</td>\n",
       "      <td>NaT</td>\n",
       "      <td>NaT</td>\n",
       "      <td>NaT</td>\n",
       "      <td>NaT</td>\n",
       "      <td>NaN</td>\n",
       "      <td>NaN</td>\n",
       "    </tr>\n",
       "    <tr>\n",
       "      <th>13</th>\n",
       "      <td>52</td>\n",
       "      <td>Lisa Jones</td>\n",
       "      <td>11185341</td>\n",
       "      <td>Email 1 - Welcome to Wanderlust Adventures</td>\n",
       "      <td>2020-09-14 22:53:00</td>\n",
       "      <td>2020-09-14 23:35:00</td>\n",
       "      <td>NaT</td>\n",
       "      <td>NaT</td>\n",
       "      <td>NaT</td>\n",
       "      <td>NaN</td>\n",
       "      <td>NaN</td>\n",
       "    </tr>\n",
       "    <tr>\n",
       "      <th>14</th>\n",
       "      <td>56</td>\n",
       "      <td>Anthony Davis</td>\n",
       "      <td>14867585</td>\n",
       "      <td>Email 1 - Welcome to Wanderlust Adventures</td>\n",
       "      <td>2021-01-01 20:48:00</td>\n",
       "      <td>2021-01-01 21:36:00</td>\n",
       "      <td>2021-01-01 22:32:00</td>\n",
       "      <td>NaT</td>\n",
       "      <td>NaT</td>\n",
       "      <td>NaN</td>\n",
       "      <td>NaN</td>\n",
       "    </tr>\n",
       "    <tr>\n",
       "      <th>15</th>\n",
       "      <td>60</td>\n",
       "      <td>Evelyn Smith</td>\n",
       "      <td>6029501</td>\n",
       "      <td>Email 1 - Welcome to Wanderlust Adventures</td>\n",
       "      <td>2019-01-16 13:25:00</td>\n",
       "      <td>NaT</td>\n",
       "      <td>NaT</td>\n",
       "      <td>NaT</td>\n",
       "      <td>NaT</td>\n",
       "      <td>NaN</td>\n",
       "      <td>NaN</td>\n",
       "    </tr>\n",
       "    <tr>\n",
       "      <th>16</th>\n",
       "      <td>64</td>\n",
       "      <td>Erica Andrews</td>\n",
       "      <td>78199079</td>\n",
       "      <td>Email 1 - Welcome to Wanderlust Adventures</td>\n",
       "      <td>2019-01-16 20:05:00</td>\n",
       "      <td>2019-01-16 20:59:00</td>\n",
       "      <td>NaT</td>\n",
       "      <td>NaT</td>\n",
       "      <td>NaT</td>\n",
       "      <td>NaN</td>\n",
       "      <td>NaN</td>\n",
       "    </tr>\n",
       "    <tr>\n",
       "      <th>17</th>\n",
       "      <td>68</td>\n",
       "      <td>Randall Lopez</td>\n",
       "      <td>17709777</td>\n",
       "      <td>Email 1 - Welcome to Wanderlust Adventures</td>\n",
       "      <td>2019-06-18 20:40:00</td>\n",
       "      <td>2019-06-18 21:21:00</td>\n",
       "      <td>NaT</td>\n",
       "      <td>NaT</td>\n",
       "      <td>NaT</td>\n",
       "      <td>NaN</td>\n",
       "      <td>NaN</td>\n",
       "    </tr>\n",
       "    <tr>\n",
       "      <th>18</th>\n",
       "      <td>72</td>\n",
       "      <td>John Lewis</td>\n",
       "      <td>14723080</td>\n",
       "      <td>Email 1 - Welcome to Wanderlust Adventures</td>\n",
       "      <td>2020-08-04 14:00:00</td>\n",
       "      <td>2020-08-04 14:53:00</td>\n",
       "      <td>NaT</td>\n",
       "      <td>NaT</td>\n",
       "      <td>NaT</td>\n",
       "      <td>NaN</td>\n",
       "      <td>NaN</td>\n",
       "    </tr>\n",
       "    <tr>\n",
       "      <th>19</th>\n",
       "      <td>76</td>\n",
       "      <td>Melinda Stout</td>\n",
       "      <td>29420986</td>\n",
       "      <td>Email 1 - Welcome to Wanderlust Adventures</td>\n",
       "      <td>2021-01-07 19:34:00</td>\n",
       "      <td>2021-01-07 19:57:00</td>\n",
       "      <td>NaT</td>\n",
       "      <td>NaT</td>\n",
       "      <td>NaT</td>\n",
       "      <td>NaN</td>\n",
       "      <td>NaN</td>\n",
       "    </tr>\n",
       "  </tbody>\n",
       "</table>\n",
       "</div>"
      ],
      "text/plain": [
       "    index             name  account_number  \\\n",
       "0       0     Brian Harris        84256863   \n",
       "1       4    Travis Gibson        87296226   \n",
       "2       8     Hector Hurst        14429475   \n",
       "3      12  Stephanie Scott        12583440   \n",
       "4      16    Hunter Jensen        46846333   \n",
       "5      20  Timothy Hartman        94388384   \n",
       "6      24        Jaime Lee        40286567   \n",
       "7      28      Brian Chang        12419780   \n",
       "8      32       Edwin Hall        16545747   \n",
       "9      36     Donald Mccoy        94194334   \n",
       "10     40       Sarah Bell        73431902   \n",
       "11     44    Daniel Garcia        68509782   \n",
       "12     48  John Montgomery         3007767   \n",
       "13     52       Lisa Jones        11185341   \n",
       "14     56    Anthony Davis        14867585   \n",
       "15     60     Evelyn Smith         6029501   \n",
       "16     64    Erica Andrews        78199079   \n",
       "17     68    Randall Lopez        17709777   \n",
       "18     72       John Lewis        14723080   \n",
       "19     76    Melinda Stout        29420986   \n",
       "\n",
       "                                    email_name           sent_date  \\\n",
       "0   Email 1 - Welcome to Wanderlust Adventures 2021-11-11 22:24:00   \n",
       "1   Email 1 - Welcome to Wanderlust Adventures 2022-12-05 16:20:00   \n",
       "2   Email 1 - Welcome to Wanderlust Adventures 2022-03-10 06:23:00   \n",
       "3   Email 1 - Welcome to Wanderlust Adventures 2022-07-05 15:10:00   \n",
       "4   Email 1 - Welcome to Wanderlust Adventures 2020-01-23 17:58:00   \n",
       "5   Email 1 - Welcome to Wanderlust Adventures 2020-12-24 09:57:00   \n",
       "6   Email 1 - Welcome to Wanderlust Adventures 2020-04-25 11:28:00   \n",
       "7   Email 1 - Welcome to Wanderlust Adventures 2020-01-16 18:46:00   \n",
       "8   Email 1 - Welcome to Wanderlust Adventures 2023-08-08 01:52:00   \n",
       "9   Email 1 - Welcome to Wanderlust Adventures 2019-02-26 12:08:00   \n",
       "10  Email 1 - Welcome to Wanderlust Adventures 2019-11-10 17:33:00   \n",
       "11  Email 1 - Welcome to Wanderlust Adventures 2022-05-21 03:58:00   \n",
       "12  Email 1 - Welcome to Wanderlust Adventures 2020-05-10 13:54:00   \n",
       "13  Email 1 - Welcome to Wanderlust Adventures 2020-09-14 22:53:00   \n",
       "14  Email 1 - Welcome to Wanderlust Adventures 2021-01-01 20:48:00   \n",
       "15  Email 1 - Welcome to Wanderlust Adventures 2019-01-16 13:25:00   \n",
       "16  Email 1 - Welcome to Wanderlust Adventures 2019-01-16 20:05:00   \n",
       "17  Email 1 - Welcome to Wanderlust Adventures 2019-06-18 20:40:00   \n",
       "18  Email 1 - Welcome to Wanderlust Adventures 2020-08-04 14:00:00   \n",
       "19  Email 1 - Welcome to Wanderlust Adventures 2021-01-07 19:34:00   \n",
       "\n",
       "             open_date          click_date bounce_date transaction_date  \\\n",
       "0  2021-11-11 22:47:00 2021-11-11 22:51:00         NaT              NaT   \n",
       "1  2022-12-05 16:25:00                 NaT         NaT              NaT   \n",
       "2  2022-03-10 07:13:00                 NaT         NaT              NaT   \n",
       "3  2022-07-05 15:40:00                 NaT         NaT              NaT   \n",
       "4                  NaT                 NaT         NaT              NaT   \n",
       "5                  NaT                 NaT         NaT              NaT   \n",
       "6                  NaT                 NaT         NaT              NaT   \n",
       "7  2020-01-16 18:53:00                 NaT         NaT              NaT   \n",
       "8  2023-08-08 02:10:00                 NaT         NaT              NaT   \n",
       "9  2019-02-26 12:38:00                 NaT         NaT              NaT   \n",
       "10 2019-11-10 18:24:00                 NaT         NaT              NaT   \n",
       "11 2022-05-21 04:21:00                 NaT         NaT              NaT   \n",
       "12                 NaT                 NaT         NaT              NaT   \n",
       "13 2020-09-14 23:35:00                 NaT         NaT              NaT   \n",
       "14 2021-01-01 21:36:00 2021-01-01 22:32:00         NaT              NaT   \n",
       "15                 NaT                 NaT         NaT              NaT   \n",
       "16 2019-01-16 20:59:00                 NaT         NaT              NaT   \n",
       "17 2019-06-18 21:21:00                 NaT         NaT              NaT   \n",
       "18 2020-08-04 14:53:00                 NaT         NaT              NaT   \n",
       "19 2021-01-07 19:57:00                 NaT         NaT              NaT   \n",
       "\n",
       "    transaction_amount  month  \n",
       "0                  NaN    NaN  \n",
       "1                  NaN    NaN  \n",
       "2                  NaN    NaN  \n",
       "3                  NaN    NaN  \n",
       "4                  NaN    NaN  \n",
       "5                  NaN    NaN  \n",
       "6                  NaN    NaN  \n",
       "7                  NaN    NaN  \n",
       "8                  NaN    NaN  \n",
       "9                  NaN    NaN  \n",
       "10                 NaN    NaN  \n",
       "11                 NaN    NaN  \n",
       "12                 NaN    NaN  \n",
       "13                 NaN    NaN  \n",
       "14                 NaN    NaN  \n",
       "15                 NaN    NaN  \n",
       "16                 NaN    NaN  \n",
       "17                 NaN    NaN  \n",
       "18                 NaN    NaN  \n",
       "19                 NaN    NaN  "
      ]
     },
     "execution_count": 274,
     "metadata": {},
     "output_type": "execute_result"
    }
   ],
   "source": [
    "df.head(20)"
   ]
  }
 ],
 "metadata": {
  "kernelspec": {
   "display_name": "Python 3",
   "language": "python",
   "name": "python3"
  },
  "language_info": {
   "codemirror_mode": {
    "name": "ipython",
    "version": 3
   },
   "file_extension": ".py",
   "mimetype": "text/x-python",
   "name": "python",
   "nbconvert_exporter": "python",
   "pygments_lexer": "ipython3",
   "version": "3.8.3"
  },
  "toc": {
   "base_numbering": 1,
   "nav_menu": {},
   "number_sections": true,
   "sideBar": true,
   "skip_h1_title": false,
   "title_cell": "Table of Contents",
   "title_sidebar": "Contents",
   "toc_cell": false,
   "toc_position": {},
   "toc_section_display": true,
   "toc_window_display": false
  }
 },
 "nbformat": 4,
 "nbformat_minor": 4
}
