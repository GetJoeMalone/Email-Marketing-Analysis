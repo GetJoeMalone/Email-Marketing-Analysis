{
 "cells": [
  {
   "cell_type": "code",
   "execution_count": 2,
   "metadata": {},
   "outputs": [],
   "source": [
    "import pandas as pd\n",
    "import numpy as np\n",
    "import datetime\n",
    "from dateutil.relativedelta import relativedelta\n",
    "import matplotlib.pyplot as plt\n",
    "%matplotlib inline\n"
   ]
  },
  {
   "cell_type": "code",
   "execution_count": null,
   "metadata": {},
   "outputs": [],
   "source": [
    "#Here are the metrics I analyze for the campaign\n",
    "\n",
    "#Clickthrough Rate. \n",
    "#Open Rate. \n",
    "#Conversion Rate. ...\n",
    "#Bounce Rate. ...\n",
    "#List Growth Rate. ...\n",
    "#Overall ROI. ...\n",
    "#Unsubscribe Rate."
   ]
  },
  {
   "cell_type": "code",
   "execution_count": 3,
   "metadata": {},
   "outputs": [],
   "source": [
    "#pulling in data to dataframe\n",
    "\n",
    "df = pd.read_csv('filtered_dataset.csv')\n"
   ]
  },
  {
   "cell_type": "code",
   "execution_count": 4,
   "metadata": {},
   "outputs": [
    {
     "name": "stdout",
     "output_type": "stream",
     "text": [
      "<class 'pandas.core.frame.DataFrame'>\n",
      "RangeIndex: 42099 entries, 0 to 42098\n",
      "Data columns (total 10 columns):\n",
      " #   Column              Non-Null Count  Dtype  \n",
      "---  ------              --------------  -----  \n",
      " 0   index               42099 non-null  int64  \n",
      " 1   name                42099 non-null  object \n",
      " 2   account_number      42099 non-null  int64  \n",
      " 3   email_name          42099 non-null  object \n",
      " 4   sent_date           42099 non-null  object \n",
      " 5   open_date           34832 non-null  object \n",
      " 6   click_date          8693 non-null   object \n",
      " 7   bounce_date         649 non-null    object \n",
      " 8   transaction_date    902 non-null    object \n",
      " 9   transaction_amount  889 non-null    float64\n",
      "dtypes: float64(1), int64(2), object(7)\n",
      "memory usage: 3.2+ MB\n"
     ]
    }
   ],
   "source": [
    "#checking data for any needed wrangling\n",
    "df.info()"
   ]
  },
  {
   "cell_type": "code",
   "execution_count": 5,
   "metadata": {},
   "outputs": [],
   "source": [
    "#changing dtype for some columns\n",
    "\n",
    "df = df.astype({'open_date':'datetime64', 'click_date':'datetime64', \n",
    "                'bounce_date':'datetime64', 'transaction_date':'datetime64', \n",
    "               'sent_date':'datetime64', 'name':'string', 'email_name':'string'})"
   ]
  },
  {
   "cell_type": "code",
   "execution_count": 6,
   "metadata": {
    "scrolled": true
   },
   "outputs": [
    {
     "name": "stdout",
     "output_type": "stream",
     "text": [
      "<class 'pandas.core.frame.DataFrame'>\n",
      "RangeIndex: 42099 entries, 0 to 42098\n",
      "Data columns (total 10 columns):\n",
      " #   Column              Non-Null Count  Dtype         \n",
      "---  ------              --------------  -----         \n",
      " 0   index               42099 non-null  int64         \n",
      " 1   name                42099 non-null  string        \n",
      " 2   account_number      42099 non-null  int64         \n",
      " 3   email_name          42099 non-null  string        \n",
      " 4   sent_date           42099 non-null  datetime64[ns]\n",
      " 5   open_date           34832 non-null  datetime64[ns]\n",
      " 6   click_date          8693 non-null   datetime64[ns]\n",
      " 7   bounce_date         649 non-null    datetime64[ns]\n",
      " 8   transaction_date    902 non-null    datetime64[ns]\n",
      " 9   transaction_amount  889 non-null    float64       \n",
      "dtypes: datetime64[ns](5), float64(1), int64(2), string(2)\n",
      "memory usage: 3.2 MB\n"
     ]
    }
   ],
   "source": [
    "df.info()"
   ]
  },
  {
   "cell_type": "code",
   "execution_count": 131,
   "metadata": {},
   "outputs": [],
   "source": [
    "#adding columns for day, month and year separately\n",
    "df['month'] = pd.DatetimeIndex(df['sent_date']).month\n",
    "df['year'] = pd.DatetimeIndex(df['sent_date']).year\n",
    "df['day'] = pd.DatetimeIndex(df['sent_date']).day\n",
    "df['hour'] = pd.DatetimeIndex(df['sent_date']).hour\n",
    "\n"
   ]
  },
  {
   "cell_type": "code",
   "execution_count": 7,
   "metadata": {},
   "outputs": [
    {
     "data": {
      "text/plain": [
       "<StringArray>\n",
       "[                                'Email 1 - Welcome to Wanderlust Adventures',\n",
       "                                     'Email 2 - Offers tailored just for you',\n",
       " 'Email 3 - Don’t miss out on your next adventures, book now and get 20% off',\n",
       "                        'Email 4 - Thanks for choosing Wanderlust Adventures']\n",
       "Length: 4, dtype: string"
      ]
     },
     "execution_count": 7,
     "metadata": {},
     "output_type": "execute_result"
    }
   ],
   "source": [
    "#doing some EDA to get a better understanding of the data\n",
    "#the company sent 4 emails \n",
    "df['email_name'].unique()"
   ]
  },
  {
   "cell_type": "code",
   "execution_count": 8,
   "metadata": {},
   "outputs": [
    {
     "data": {
      "text/plain": [
       "email_name\n",
       "Email 1 - Welcome to Wanderlust Adventures                                    10750\n",
       "Email 2 - Offers tailored just for you                                        14332\n",
       "Email 3 - Don’t miss out on your next adventures, book now and get 20% off    10747\n",
       "Email 4 - Thanks for choosing Wanderlust Adventures                            6270\n",
       "Name: name, dtype: int64"
      ]
     },
     "execution_count": 8,
     "metadata": {},
     "output_type": "execute_result"
    }
   ],
   "source": [
    "# the emails were sent to the following number of recipients\n",
    "df.groupby('email_name')['name'].count()"
   ]
  },
  {
   "cell_type": "code",
   "execution_count": 9,
   "metadata": {},
   "outputs": [
    {
     "data": {
      "text/plain": [
       "17916"
      ]
     },
     "execution_count": 9,
     "metadata": {},
     "output_type": "execute_result"
    }
   ],
   "source": [
    "#number of unique email recipients \n",
    "df.name.nunique()"
   ]
  },
  {
   "cell_type": "code",
   "execution_count": 10,
   "metadata": {
    "scrolled": true
   },
   "outputs": [
    {
     "name": "stdout",
     "output_type": "stream",
     "text": [
      "2019-01-01 07:13:00 2023-08-31 23:22:00\n"
     ]
    }
   ],
   "source": [
    "#date of the first and last email sent \n",
    "print(df.sent_date.min(), df.sent_date.max())"
   ]
  },
  {
   "cell_type": "code",
   "execution_count": 11,
   "metadata": {},
   "outputs": [],
   "source": [
    "#Creating functions to be used in ad hoc analysis\n",
    "#Clickthrough Rate. \n",
    "def ctr_calc_total(email):\n",
    "    total_emails = len(df[df['email_name'].str.contains( email)])\n",
    "    opened_emails = len(df[df['email_name'].str.contains( 'Email 1') & df['open_date'].isnull() == True])\n",
    "    return opened_emails/total_emails\n",
    "\n",
    "def ctr_calc_MoM(email, current_month_var):\n",
    "    months = {'January': 1, 'February':2, 'March':3, 'April':4, 'May':5, 'June':6,\n",
    "             'July': 7, 'August':8, 'September':9, 'October':10, 'November':11, 'December':12}\n",
    "    current_month = months[current_month_var]\n",
    "    total_emails = len(df[df['email_name'].str.contains(email) & (df['sent_date'].dt.month == current_month)])\n",
    "    opened_emails = len(df[df['email_name'].str.contains(email) & (df['open_date'].isnull() == True) & (df['sent_date'].dt.month == current_month)])\n",
    "    \n",
    "    prev_total_emails = len(df[df['email_name'].str.contains(email) & (df['sent_date'].dt.month == current_month - 1)])\n",
    "    prev_opened_emails = len(df[df['email_name'].str.contains(email) & (df['open_date'].isnull() == True) & (df['sent_date'].dt.month == current_month -1)])\n",
    "    return {'date':current_month_var, 'month':opened_emails/total_emails, \n",
    "            'previous_month':prev_opened_emails/prev_total_emails, \n",
    "           '% change': round(((opened_emails-prev_opened_emails)/prev_total_emails) * 100, 2)}\n",
    "\n",
    "def ctr_calc_MoM_PY(email, current_month_var, current_year):\n",
    "    months = {'January': 1, 'February':2, 'March':3, 'April':4, 'May':5, 'June':6,\n",
    "             'July': 7, 'August':8, 'September':9, 'October':10, 'November':11, 'December':12}\n",
    "    current_month = months[current_month_var]\n",
    "    total_emails = len(df[df['email_name'].str.contains(email) & (df['sent_date'].dt.month == current_month) & (df['sent_date'].dt.year == current_year)] )\n",
    "    opened_emails = len(df[df['email_name'].str.contains(email) & (df['open_date'].isnull() == True) & (df['sent_date'].dt.month == current_month) & (df['sent_date'].dt.year == current_year) ])\n",
    "    \n",
    "    prev_total_emails = len(df[df['email_name'].str.contains(email) & (df['sent_date'].dt.month == current_month - 1) & (df['sent_date'].dt.year == current_year -1)])\n",
    "    prev_opened_emails = len(df[df['email_name'].str.contains(email) & (df['open_date'].isnull() == True) & (df['sent_date'].dt.month == current_month -1) & (df['sent_date'].dt.year == current_year -1)])\n",
    "    return {'Date': current_month_var + \" \" + str(current_year),  'current':opened_emails/total_emails, 'previous':prev_opened_emails/prev_total_emails}\n",
    "\n",
    "def ctr_calc_YTD_PYTD(email):\n",
    "    temp_date = pd.to_datetime(datetime.date.today())\n",
    "    total_emails = len(df[df['email_name'].str.contains(email) & \n",
    "                          (df['sent_date'] <= temp_date)] )\n",
    "    opened_emails = len(df[df['email_name'].str.contains(email) & \n",
    "                           (df['open_date'].isnull() == True) & \n",
    "                          (df['sent_date'] <= temp_date )  ])\n",
    "    prev_total_emails = len(df[df['email_name'].str.contains(email) & \n",
    "                          (df['sent_date'] <= temp_date - relativedelta(years=1))] )\n",
    "    prev_opened_emails = len(df[df['email_name'].str.contains(email) & \n",
    "                           (df['open_date'].isnull() == True) & \n",
    "                          (df['sent_date'] <= temp_date - relativedelta(years=1))  ])\n",
    "    return {'Date': datetime.date.today().year, \n",
    "            'current':opened_emails/total_emails, \n",
    "            'previous':prev_opened_emails/prev_total_emails}"
   ]
  },
  {
   "cell_type": "code",
   "execution_count": 129,
   "metadata": {
    "scrolled": true
   },
   "outputs": [
    {
     "name": "stdout",
     "output_type": "stream",
     "text": [
      "email_name\n",
      "Email 1 - Welcome to Wanderlust Adventures                                     9139\n",
      "Email 2 - Offers tailored just for you                                        12563\n",
      "Email 3 - Don’t miss out on your next adventures, book now and get 20% off     8308\n",
      "Email 4 - Thanks for choosing Wanderlust Adventures                            4822\n",
      "Name: open_date, dtype: int64\n",
      "email_name\n",
      "Email 1 - Welcome to Wanderlust Adventures                                    10750\n",
      "Email 2 - Offers tailored just for you                                        14332\n",
      "Email 3 - Don’t miss out on your next adventures, book now and get 20% off    10747\n",
      "Email 4 - Thanks for choosing Wanderlust Adventures                            6270\n",
      "Name: sent_date, dtype: int64\n"
     ]
    }
   ],
   "source": [
    "print(df.groupby(['email_name', 'year'])['open_date'].count())\n",
    "print(df.groupby('email_name')['sent_date'].count())\n"
   ]
  },
  {
   "cell_type": "code",
   "execution_count": 126,
   "metadata": {},
   "outputs": [
    {
     "name": "stdout",
     "output_type": "stream",
     "text": [
      "Email 1 clickthrough rate: 0.85\n",
      "Email 2 clickthrough rate: 0.88\n",
      "Email 3 clickthrough rate: 0.77\n",
      "Email 4 clickthrough rate: 0.77\n"
     ]
    }
   ],
   "source": [
    "#lets get the clickthrough rate\n",
    "\n",
    "#we need the total number of unique clicks\n",
    "clicked = df.groupby('email_name')['open_date'].count()\n",
    "\n",
    "#then you need the count of emails sent\n",
    "sent = df.groupby('email_name')['sent_date'].count()\n",
    "\n",
    "#loop to iterate over answers\n",
    "for i in range(len(sent)):\n",
    "    print(('Email {} clickthrough rate: {}').format(i+1, round(clicked[i]/sent[i], 2)))"
   ]
  },
  {
   "cell_type": "code",
   "execution_count": 133,
   "metadata": {},
   "outputs": [
    {
     "name": "stdout",
     "output_type": "stream",
     "text": [
      "Year:  2019 Email  1 Sent:  2271 opened:  1937 clickthrough Rate:  0.85\n",
      "Year:  2019 Email  2 Sent:  3092 opened:  2717 clickthrough Rate:  0.88\n",
      "Year:  2019 Email  3 Sent:  2336 opened:  1831 clickthrough Rate:  0.78\n",
      "Year:  2019 Email  4 Sent:  1353 opened:  1028 clickthrough Rate:  0.76\n",
      "Year:  2020 Email  1 Sent:  2345 opened:  1989 clickthrough Rate:  0.85\n",
      "Year:  2020 Email  2 Sent:  3050 opened:  2677 clickthrough Rate:  0.88\n",
      "Year:  2020 Email  3 Sent:  2264 opened:  1754 clickthrough Rate:  0.77\n",
      "Year:  2020 Email  4 Sent:  1367 opened:  1042 clickthrough Rate:  0.76\n",
      "Year:  2021 Email  1 Sent:  2235 opened:  1896 clickthrough Rate:  0.85\n",
      "Year:  2021 Email  2 Sent:  3009 opened:  2643 clickthrough Rate:  0.88\n",
      "Year:  2021 Email  3 Sent:  2239 opened:  1730 clickthrough Rate:  0.77\n",
      "Year:  2021 Email  4 Sent:  1305 opened:  998 clickthrough Rate:  0.76\n",
      "Year:  2022 Email  1 Sent:  2363 opened:  1983 clickthrough Rate:  0.84\n",
      "Year:  2022 Email  2 Sent:  3115 opened:  2722 clickthrough Rate:  0.87\n",
      "Year:  2022 Email  3 Sent:  2362 opened:  1809 clickthrough Rate:  0.77\n",
      "Year:  2022 Email  4 Sent:  1314 opened:  1020 clickthrough Rate:  0.78\n"
     ]
    }
   ],
   "source": [
    "#click through rate broken out by year\n",
    "for i in range(2019,2023):\n",
    "    opened_ = df[df.year == i].groupby('email_name')['open_date'].count()\n",
    "    sent_ = df[df.year == i].groupby('email_name')['sent_date'].count()\n",
    "    for j in range(len(opened_)):\n",
    "        print(\"Year: \", i,\"Email \", j+1,  \"Sent: \", sent_[j], \"opened: \", opened_[j],\"clickthrough Rate: \", round(opened_[j]/sent_[j], 2))"
   ]
  },
  {
   "cell_type": "code",
   "execution_count": 13,
   "metadata": {},
   "outputs": [
    {
     "name": "stdout",
     "output_type": "stream",
     "text": [
      "Email 1 open rate: 0.85\n",
      "Email 2 open rate: 0.88\n",
      "Email 3 open rate: 0.77\n",
      "Email 4 open rate: 0.77\n"
     ]
    }
   ],
   "source": [
    "#to get the open rate you need the count of sent emails\n",
    "sent = df.groupby('email_name')['sent_date'].count()\n",
    "\n",
    "#you also need a count of open emails \n",
    "opened =df.groupby('email_name')['open_date'].count()\n",
    "\n",
    "#loop to iterate over answers\n",
    "for i in range(len(sent)):\n",
    "    print(('Email {} open rate: {}').format(i+1, round(opened[i]/sent[i], 2)))\n"
   ]
  },
  {
   "cell_type": "code",
   "execution_count": 14,
   "metadata": {},
   "outputs": [
    {
     "data": {
      "text/plain": [
       "2021-06-12 17:07:00    2\n",
       "2019-09-13 17:07:00    2\n",
       "2019-01-02 22:48:00    2\n",
       "2022-04-19 03:29:00    2\n",
       "2021-07-20 16:10:00    2\n",
       "                      ..\n",
       "2020-12-29 14:10:00    1\n",
       "2021-04-12 15:17:00    1\n",
       "2023-02-07 05:58:00    1\n",
       "2020-11-03 04:36:00    1\n",
       "2020-07-12 16:21:00    1\n",
       "Name: open_date, Length: 34585, dtype: int64"
      ]
     },
     "execution_count": 14,
     "metadata": {},
     "output_type": "execute_result"
    }
   ],
   "source": [
    "df.open_date.value_counts()"
   ]
  },
  {
   "cell_type": "code",
   "execution_count": 15,
   "metadata": {
    "scrolled": true
   },
   "outputs": [
    {
     "name": "stdout",
     "output_type": "stream",
     "text": [
      "Email 1 conversion rate: 0.02\n",
      "Email 2 conversion rate: 0.04\n",
      "Email 3 conversion rate: 0.01\n",
      "Email 4 conversion rate: 0.01\n"
     ]
    }
   ],
   "source": [
    "#conversion rate\n",
    "\n",
    "#There are some rows with no open or click, but a transaction date. We are not going to use these for conversion\n",
    "# df[(df.transaction_amount.isnull() == True) & (df.transaction_date.isnull() == False )]\n",
    "\n",
    "df_conv = df[~(df.transaction_amount.isnull() == True) & (df.transaction_date.isnull() == False )]\n",
    "\n",
    "sent = df.groupby('email_name')['sent_date'].count()\n",
    "\n",
    "#you also need a count of open emails \n",
    "converts =df_conv.groupby('email_name')['transaction_date'].nunique()\n",
    "\n",
    "#loop to iterate over answers\n",
    "for i in range(len(sent)):\n",
    "    print(('Email {} conversion rate: {}').format(i+1, round(converts[i]/sent[i], 2)))\n"
   ]
  },
  {
   "cell_type": "code",
   "execution_count": 16,
   "metadata": {
    "scrolled": true
   },
   "outputs": [
    {
     "name": "stdout",
     "output_type": "stream",
     "text": [
      "Email 1 bounce rate: 0.02\n",
      "Email 2 bounce rate: 0.02\n",
      "Email 3 bounce rate: 0.02\n",
      "Email 4 bounce rate: 0.01\n"
     ]
    }
   ],
   "source": [
    "#Bounce rate\n",
    "\n",
    "\n",
    "sent = df.groupby('email_name')['sent_date'].count()\n",
    "\n",
    "#you also need a count of open emails \n",
    "bounce =df.groupby('email_name')['bounce_date'].nunique()\n",
    "\n",
    "#loop to iterate over answers\n",
    "for i in range(len(sent)):\n",
    "    print(('Email {} bounce rate: {}').format(i+1, round(bounce[i]/sent[i], 2)))"
   ]
  },
  {
   "cell_type": "code",
   "execution_count": 71,
   "metadata": {
    "scrolled": true
   },
   "outputs": [
    {
     "name": "stdout",
     "output_type": "stream",
     "text": [
      "open_year  email_name                                                                \n",
      "2019.0     Email 1 - Welcome to Wanderlust Adventures                                    1937\n",
      "           Email 2 - Offers tailored just for you                                        2716\n",
      "           Email 3 - Don’t miss out on your next adventures, book now and get 20% off    1831\n",
      "           Email 4 - Thanks for choosing Wanderlust Adventures                           1027\n",
      "Name: name, dtype: int64 open_year  email_name                                                                \n",
      "2020.0     Email 1 - Welcome to Wanderlust Adventures                                    1989\n",
      "           Email 2 - Offers tailored just for you                                        2678\n",
      "           Email 3 - Don’t miss out on your next adventures, book now and get 20% off    1754\n",
      "           Email 4 - Thanks for choosing Wanderlust Adventures                           1043\n",
      "Name: name, dtype: int64 open_year  email_name                                                                \n",
      "2021.0     Email 1 - Welcome to Wanderlust Adventures                                    1896\n",
      "           Email 2 - Offers tailored just for you                                        2643\n",
      "           Email 3 - Don’t miss out on your next adventures, book now and get 20% off    1730\n",
      "           Email 4 - Thanks for choosing Wanderlust Adventures                            998\n",
      "Name: name, dtype: int64 open_year  email_name                                                                \n",
      "2022.0     Email 1 - Welcome to Wanderlust Adventures                                    1983\n",
      "           Email 2 - Offers tailored just for you                                        2721\n",
      "           Email 3 - Don’t miss out on your next adventures, book now and get 20% off    1809\n",
      "           Email 4 - Thanks for choosing Wanderlust Adventures                           1020\n",
      "Name: name, dtype: int64\n"
     ]
    },
    {
     "data": {
      "image/png": "[encoded data removed]",
      "text/plain": [
       "<Figure size 432x288 with 1 Axes>"
      ]
     },
     "metadata": {
      "needs_background": "light"
     },
     "output_type": "display_data"
    }
   ],
   "source": [
    "#list Growth Rate\n",
    "list_growth_2019 = df[df['open_year'] == 2019.0].sort_values(['open_year', 'email_name'], ascending=False).groupby(['open_year', 'email_name'])['name'].count()\n",
    "list_growth_2020 = df[df['open_year'] == 2020.0].sort_values(['open_year', 'email_name'], ascending=False).groupby(['open_year', 'email_name'])['name'].count()\n",
    "list_growth_2021 = df[df['open_year'] == 2021.0].sort_values(['open_year', 'email_name'], ascending=False).groupby(['open_year', 'email_name'])['name'].count()\n",
    "list_growth_2022 = df[df['open_year'] == 2022.0].sort_values(['open_year', 'email_name'], ascending=False).groupby(['open_year', 'email_name'])['name'].count()\n",
    "list_growth_2019.plot(x='open_year', label='2019')\n",
    "list_growth_2020.plot(x='open_year', label='2020')\n",
    "list_growth_2021.plot(x='open_year', label='2021')\n",
    "list_growth_2022.plot(x='open_year', label='2022')\n",
    "\n",
    "print(list_growth_2019, list_growth_2020, list_growth_2021, list_growth_2022)\n",
    "# plt.bar(list_growth)\n",
    "plt.xticks([])  \n",
    "plt.legend()\n",
    "plt.show()"
   ]
  },
  {
   "cell_type": "code",
   "execution_count": null,
   "metadata": {},
   "outputs": [],
   "source": []
  },
  {
   "cell_type": "code",
   "execution_count": 70,
   "metadata": {},
   "outputs": [
    {
     "data": {
      "text/plain": [
       "open_year  email_name                                                                \n",
       "2019.0     Email 1 - Welcome to Wanderlust Adventures                                    1937\n",
       "           Email 2 - Offers tailored just for you                                        2716\n",
       "           Email 3 - Don’t miss out on your next adventures, book now and get 20% off    1831\n",
       "           Email 4 - Thanks for choosing Wanderlust Adventures                           1027\n",
       "Name: name, dtype: int64"
      ]
     },
     "execution_count": 70,
     "metadata": {},
     "output_type": "execute_result"
    }
   ],
   "source": [
    "list_growth_2019 = df[df['open_year'] == 2019.0].sort_values(['open_year', 'email_name'], ascending=False).groupby(['open_year', 'email_name'])['name'].count()\n",
    "printlist_growth_2019"
   ]
  },
  {
   "cell_type": "code",
   "execution_count": null,
   "metadata": {},
   "outputs": [],
   "source": []
  },
  {
   "cell_type": "code",
   "execution_count": 79,
   "metadata": {},
   "outputs": [
    {
     "name": "stdout",
     "output_type": "stream",
     "text": [
      "name\n",
      "Troy Long            2276.00\n",
      "Ashley Fields        2214.98\n",
      "Jessica Rivers       2182.44\n",
      "Michelle Robinson    2061.90\n",
      "Alicia Lynch         1930.10\n",
      "Audrey Evans         1757.14\n",
      "Raven Hughes         1706.43\n",
      "Brittany Roman       1481.40\n",
      "Shawn Andrade        1398.58\n",
      "Holly Rodriguez      1397.31\n",
      "Catherine Bauer      1396.18\n",
      "Angela Anderson      1395.85\n",
      "Michelle Curtis      1394.86\n",
      "Richard Tucker       1394.70\n",
      "Ashley Hanson        1394.40\n",
      "Jean Gregory         1394.30\n",
      "Sheri Gibbs          1393.89\n",
      "Olivia Howell        1391.32\n",
      "Dana Pope            1390.32\n",
      "Kyle Griffin         1389.34\n",
      "Gary Baker           1388.20\n",
      "Cindy Bullock        1385.51\n",
      "Danielle Bird        1384.00\n",
      "Isaac Simmons        1381.08\n",
      "Kelly Gould          1380.36\n",
      "Name: transaction_amount, dtype: float64\n"
     ]
    },
    {
     "data": {
      "text/plain": [
       "(array([204., 171., 185., 185., 128.,   1.,   2.,   1.,   1.,   3.]),\n",
       " array([ 601.92 ,  769.328,  936.736, 1104.144, 1271.552, 1438.96 ,\n",
       "        1606.368, 1773.776, 1941.184, 2108.592, 2276.   ]),\n",
       " <a list of 10 Patch objects>)"
      ]
     },
     "execution_count": 79,
     "metadata": {},
     "output_type": "execute_result"
    },
    {
     "data": {
      "image/png": "[encoded data removed]",
      "text/plain": [
       "<Figure size 432x288 with 1 Axes>"
      ]
     },
     "metadata": {
      "needs_background": "light"
     },
     "output_type": "display_data"
    }
   ],
   "source": [
    "#now lets look at revenue related metrics\n",
    "\n",
    "#revenue per user \n",
    "\n",
    "revbyuser = df[df.transaction_amount > 0].groupby('name')['transaction_amount'].sum().sort_values(ascending=False)\n",
    "print(revbyuser[:25])\n",
    "plt.title(\"user revenue\" )\n",
    "plt.hist(revbyuser, bins=10)"
   ]
  },
  {
   "cell_type": "code",
   "execution_count": null,
   "metadata": {},
   "outputs": [],
   "source": []
  },
  {
   "cell_type": "code",
   "execution_count": null,
   "metadata": {},
   "outputs": [],
   "source": []
  },
  {
   "cell_type": "code",
   "execution_count": null,
   "metadata": {},
   "outputs": [],
   "source": []
  },
  {
   "cell_type": "code",
   "execution_count": 59,
   "metadata": {},
   "outputs": [
    {
     "name": "stdout",
     "output_type": "stream",
     "text": [
      "Stephen Howard :  613.12\n",
      "Stanley Mason :  1276.35\n",
      "William Riley :  1090.88\n",
      "Breanna Lopez :  838.6\n",
      "Devin Norman :  768.16\n",
      "Lisa Shelton :  1035.71\n",
      "Alexander Perez :  1153.75\n",
      "Bradley Brown :  1345.49\n",
      "Anita Holder :  1198.73\n",
      "Isaiah Stephens :  661.02\n",
      "Cassandra Duncan :  698.57\n",
      "Megan Myers :  792.95\n",
      "Lisa Price :  938.36\n",
      "James Mcgee :  658.34\n",
      "Christine Steele :  704.33\n",
      "Kyle Mcmahon :  1017.26\n",
      "Jessica Martinez :  1316.57\n",
      "Ashley Harris :  670.37\n",
      "Melissa Robinson :  900.05\n",
      "Douglas Graham :  1328.44\n",
      "William Cole :  780.65\n",
      "James Ramos :  701.09\n",
      "Benjamin Patterson :  948.21\n",
      "Michael Mendez :  950.56\n",
      "Anthony Esparza :  1303.63\n",
      "Brandi King :  693.88\n",
      "Paul Sawyer :  738.49\n",
      "Jessica Cooper :  647.37\n",
      "Emily Grant :  958.62\n",
      "Daniel Flores :  833.41\n",
      "Danielle Meyer :  693.81\n",
      "James Mitchell :  1044.52\n",
      "Michelle Hill :  1291.25\n",
      "Anthony Robertson :  668.26\n",
      "Caroline Cochran :  1151.81\n",
      "Sherry Singh :  1139.71\n",
      "Maria Powers :  884.54\n",
      "Diane Davis :  1315.64\n",
      "Benjamin Cox :  1120.89\n",
      "Nicholas Foster :  962.02\n",
      "Ashley Martin :  1209.56\n",
      "Donald Vega :  1366.93\n",
      "Elizabeth Morrison :  641.4\n",
      "Kayla Johnson :  1095.52\n",
      "Heather Bryan :  1322.03\n",
      "Connie Mcguire :  1030.92\n",
      "Daniel Robbins :  907.85\n",
      "Ray Watson :  1374.36\n",
      "Kathy Miller :  1099.74\n",
      "Candace Vasquez :  889.65\n",
      "Jenny Baker :  946.88\n",
      "Kimberly Malone :  1016.23\n",
      "Erik Foley :  1076.56\n",
      "Hannah Marshall :  988.43\n",
      "Timothy Mccormick :  891.62\n",
      "Joseph Baker :  1110.07\n",
      "Travis Black :  1015.24\n",
      "Stacey Glass :  881.42\n",
      "Anna Bowen :  900.58\n",
      "Tony Rodriguez :  1044.23\n",
      "Victoria Miller :  688.54\n",
      "Jeffrey Rowland :  630.25\n",
      "Cindy Bullock :  1385.51\n",
      "Benjamin Johnson :  1226.89\n",
      "Sean Washington :  988.02\n",
      "Evan Cook :  1225.98\n",
      "Michael Price :  713.67\n",
      "Janice Stevenson :  824.73\n",
      "Allison Merritt :  756.15\n",
      "Sarah Rojas :  1217.36\n",
      "Kelly Hunt :  1329.44\n",
      "Rebecca Carter :  632.56\n",
      "Jared Giles :  967.55\n",
      "Richard Wilson :  1191.88\n",
      "Jennifer Alvarez :  1004.13\n",
      "Andrew Mcclure :  1273.32\n",
      "Amanda Gregory :  1166.2\n",
      "Karen Saunders :  798.8\n",
      "Tammy Padilla :  1344.88\n",
      "Aaron Anderson :  662.58\n",
      "Christopher Wood :  1110.73\n",
      "Angelica King :  1211.04\n",
      "Ashley Robinson :  692.31\n",
      "Laura Freeman :  1358.78\n",
      "Eileen Mcfarland :  1108.48\n",
      "Justin Austin :  1245.96\n",
      "Peter Clark :  888.14\n",
      "Michelle Norman :  1169.58\n",
      "Dr. Willie Thompson :  1257.03\n",
      "Andrew Huber :  708.21\n",
      "Kevin Bailey :  967.41\n",
      "Raven Hughes :  1706.43\n",
      "Karen Houston :  1124.63\n",
      "Christina Herman :  1287.93\n",
      "Jacqueline Welch :  1162.21\n",
      "Daniel Washington :  698.62\n",
      "Isaiah Noble :  894.0\n",
      "Jacqueline Hunter :  1025.62\n",
      "Andrea Robinson :  738.92\n",
      "Madison Gallegos :  769.37\n",
      "Isabella Gonzalez :  1260.88\n",
      "Zachary Williams :  640.9\n",
      "Alexander Lam :  969.64\n",
      "Tricia Sullivan :  633.32\n",
      "Laura Nelson :  1036.53\n",
      "Angela Anderson :  1395.85\n",
      "Jonathan Lane :  631.49\n",
      "Eddie Jacobs :  824.89\n",
      "Holly Rodriguez :  1397.31\n",
      "Jessica Horton MD :  1287.59\n",
      "Vickie Jones :  948.25\n",
      "Monica Alvarado :  1315.64\n",
      "Joseph Escobar :  850.54\n",
      "Mary Gibson :  657.85\n",
      "Felicia Ali :  1231.58\n",
      "Patrick Poole :  889.46\n",
      "Michelle Orozco :  1322.96\n",
      "Michelle Hunt :  1033.45\n",
      "Ashley Mccarthy :  793.14\n",
      "Katherine English :  800.91\n",
      "Troy Hill :  1079.94\n",
      "Emma Wilson :  1371.53\n",
      "Eric Alvarez :  612.81\n",
      "Brittany Wagner :  1032.97\n",
      "Jeffrey Duarte :  684.21\n",
      "Crystal Simpson :  984.75\n",
      "Eric Ramirez :  804.99\n",
      "Anthony Phillips :  802.3\n",
      "Lauren Ramos :  908.24\n",
      "Ashley Parker :  873.04\n",
      "Cindy Brown :  802.67\n",
      "Mark Murphy :  651.83\n",
      "Sean Romero :  1352.75\n",
      "Ruben Pruitt :  1225.77\n",
      "Cathy Taylor :  1356.21\n",
      "Claudia Jackson :  834.45\n",
      "Christine Anderson MD :  1284.88\n",
      "Kyle Anderson :  1337.39\n",
      "Barbara Hall :  637.02\n",
      "Hannah Hopkins :  698.16\n",
      "Garrett Hoover :  754.17\n",
      "Gary Stone :  1196.25\n",
      "Luke Woods :  743.56\n",
      "Joe Hughes :  957.15\n",
      "Luis Perez :  1310.28\n",
      "Christopher Nunez :  827.84\n",
      "Laura Carter :  1194.12\n",
      "Todd Johnson :  974.63\n",
      "Patricia Anderson :  752.29\n",
      "Alexandra Franklin :  677.81\n",
      "Wendy Hicks :  1135.94\n",
      "Katelyn Anderson :  1095.9\n",
      "Linda Anderson :  1362.67\n",
      "Steve Perez :  932.94\n",
      "Michelle Curtis :  1394.86\n",
      "Steven Hines :  966.05\n",
      "Ashley Robertson :  1271.25\n",
      "Charlotte Tucker :  1014.39\n",
      "Heather Anderson :  897.41\n",
      "Danielle Bird :  1384.0\n",
      "Eric Brown :  844.51\n",
      "Diana Gonzalez DVM :  995.12\n",
      "Bryan Taylor :  1144.7\n",
      "Tamara Hampton :  861.03\n",
      "David Riley :  1298.05\n",
      "Penny Jackson :  982.75\n",
      "Hannah Jones :  963.65\n",
      "Joshua Moran :  1107.9\n",
      "Kenneth Randolph :  1000.74\n",
      "Eric Schneider :  820.44\n",
      "Joseph Nicholson :  1316.48\n",
      "Tina Taylor :  878.55\n",
      "Zachary Osborne :  817.8\n",
      "Michelle Robinson :  2061.9\n",
      "Laura Nelson DDS :  601.92\n",
      "Jeffery Stevens :  1145.77\n",
      "Hannah Shaffer :  970.51\n",
      "Martin Pena :  627.07\n",
      "Kenneth Levy :  1324.67\n",
      "Mrs. Robin Wyatt :  1062.4\n",
      "Leah Pace :  1342.86\n",
      "Brandi Brown :  916.81\n",
      "Stephanie Boyd :  649.88\n",
      "Rhonda Anderson :  1232.12\n",
      "Randall Chen :  1341.95\n",
      "Douglas Garcia :  684.45\n",
      "Randy Martin :  997.98\n",
      "Joseph Tanner :  1130.14\n",
      "Justin Santos :  1192.55\n",
      "Julie Rosario :  1017.28\n",
      "Kevin Schroeder :  762.12\n",
      "Jennifer Villegas :  1345.95\n",
      "Brent Giles :  1053.95\n",
      "Jonathan Davenport :  1067.96\n",
      "Jacqueline Young :  905.24\n",
      "Linda Harris :  684.1\n",
      "Diana Johnson :  1221.52\n",
      "Jeffrey Anderson :  703.09\n",
      "Gina Steele :  747.09\n",
      "Marisa Mcdaniel :  847.51\n",
      "Michael Schneider :  998.26\n",
      "Christina Robertson :  1261.12\n",
      "Derrick Fields :  1229.71\n",
      "Kevin Montgomery :  977.03\n",
      "Melissa King :  985.89\n",
      "Julia Cox :  870.71\n",
      "Janet Johnson :  1341.01\n",
      "Jerry Ellis :  1221.23\n",
      "Lauren Cooper :  1147.7\n",
      "Adam Wagner :  986.32\n",
      "Jason George :  1254.73\n",
      "Mark Caldwell :  953.39\n",
      "Theresa Matthews :  959.37\n",
      "Brandon Fernandez :  1229.48\n",
      "James Mathews :  1141.45\n",
      "Gilbert Oliver :  980.04\n",
      "Michael West :  1015.32\n",
      "Tracie Lopez :  699.87\n",
      "Ms. Rebecca Elliott DDS :  825.98\n",
      "Haley Alvarado :  1370.02\n",
      "Ricky Smith :  631.83\n",
      "Sarah Day :  1266.59\n",
      "Yvette Fowler :  739.22\n",
      "Kurt Anderson :  714.75\n",
      "Shannon Nash :  782.04\n",
      "Selena Estrada :  1041.54\n",
      "Chris Hubbard :  903.68\n",
      "Michael Allen :  1360.63\n",
      "Daniel Mendoza :  1042.03\n",
      "Samuel Smith :  1140.0\n",
      "David Fuller :  1328.38\n",
      "John Martin :  885.17\n",
      "Samantha Nguyen :  687.42\n",
      "Jennifer Buck :  772.47\n",
      "Samantha Norris :  872.61\n",
      "Lauren Thompson :  1211.96\n",
      "Jason Little :  1289.09\n",
      "Richard Deleon :  1055.58\n",
      "Trevor Jimenez :  1254.86\n",
      "Bradley Smith :  1273.68\n",
      "Dean Norman :  690.72\n",
      "Robert Perez :  1355.05\n",
      "Patricia Rich :  1378.28\n",
      "Beverly Mitchell :  1296.03\n",
      "Willie Villegas :  820.62\n",
      "Lindsey Delacruz :  770.28\n",
      "Timothy Bennett :  1031.26\n",
      "Joseph Morris :  1014.67\n",
      "Leslie Huber :  631.19\n",
      "Richard Porter :  638.98\n",
      "Jacqueline Hart :  1233.13\n",
      "Eric Dudley :  725.22\n",
      "Isaac Castro :  1211.05\n",
      "Christina Lyons :  1145.28\n",
      "Debra Davis :  1364.44\n",
      "Michael Hernandez :  1148.77\n",
      "Lauren Zimmerman :  1336.16\n",
      "Leah Fitzpatrick :  1106.0\n",
      "Travis Haynes :  1186.34\n",
      "Heather Perez :  771.62\n",
      "Gregory Ho :  994.41\n",
      "Julia Ochoa :  647.75\n",
      "Pam Valenzuela :  1041.13\n",
      "Martha Myers :  1029.02\n",
      "Benjamin Schaefer :  838.28\n",
      "Stephen Ross :  1053.6\n",
      "Willie Madden :  653.65\n",
      "Rebecca Skinner :  812.75\n",
      "Mary Mcmillan MD :  1172.79\n",
      "Jason Humphrey :  1314.99\n",
      "Samuel Deleon :  1152.81\n",
      "Katherine Ortiz :  951.62\n",
      "Austin Brown :  983.71\n",
      "Matthew Fernandez :  1198.63\n",
      "Debbie Oconnell :  1174.12\n",
      "Jessica Steele :  736.48\n",
      "Anthony Gilbert :  773.17\n",
      "Carrie Collier :  770.66\n",
      "Manuel Villanueva :  1328.54\n",
      "Kyle Lawson :  826.57\n",
      "Jeffrey Johnson :  729.33\n",
      "Julie Sanchez :  949.43\n",
      "Julian Gallegos :  1133.29\n",
      "Mitchell Martinez :  1088.71\n",
      "Desiree Malone :  1233.58\n",
      "Anthony Hall :  1060.93\n",
      "Brett Andersen :  902.61\n",
      "Stephen Vincent :  782.66\n",
      "Karen Keith :  790.67\n",
      "Michelle Jenkins :  644.14\n",
      "Glen Mullins :  900.65\n",
      "William Kane :  1106.8\n",
      "Colin Wilson :  1141.74\n",
      "Sharon Garrett :  1035.87\n",
      "William Hamilton :  804.46\n",
      "Sarah Oconnor :  974.5\n",
      "Roy Melendez :  877.86\n",
      "Shawn Andrade :  1398.58\n",
      "Zachary Franklin :  883.32\n",
      "Joshua Bird :  716.66\n",
      "Brandon Perkins :  1340.78\n",
      "Joseph Lynn :  949.4\n",
      "Nicole Mckenzie :  853.87\n",
      "Heather Wallace :  910.75\n",
      "Joshua Alvarez :  604.24\n",
      "Mallory Wilson :  989.49\n",
      "Melissa Thomas :  882.67\n",
      "Linda Hayden :  1240.94\n",
      "Barry Foster :  1094.11\n",
      "Tracy Brooks :  897.85\n",
      "Taylor Taylor :  657.1\n",
      "Sean Stark DDS :  716.72\n",
      "Jacob Brown :  722.45\n",
      "Arthur Wolfe :  1129.47\n",
      "Ashley Kramer :  698.79\n",
      "Lisa Simpson :  983.52\n",
      "Taylor Knapp :  694.55\n",
      "Dr. Laura Decker :  768.86\n",
      "Catherine Byrd :  1297.03\n",
      "Kristopher Holden :  1373.52\n",
      "Cole Huang :  639.09\n",
      "Dr. William Smith :  1104.6\n",
      "Kaylee Mccann :  1148.77\n",
      "Michael Walker :  1210.01\n",
      "Angela Bruce :  855.46\n",
      "Jeffrey Hester :  1286.23\n",
      "Melody Hopkins :  1040.61\n",
      "Marcia Trujillo :  608.35\n",
      "Angela Moore :  849.02\n",
      "Patricia Lewis :  615.43\n",
      "Larry Jones :  624.42\n"
     ]
    },
    {
     "name": "stdout",
     "output_type": "stream",
     "text": [
      "Amanda Khan :  645.99\n",
      "Robert Jackson :  1368.16\n",
      "Misty Rice :  951.66\n",
      "Robin Allen :  1204.55\n",
      "Jessica Little :  806.45\n",
      "Samuel Barnett :  951.64\n",
      "Peter Thompson :  1115.7\n",
      "Drew Medina :  1319.9\n",
      "Ashley Johnson :  978.74\n",
      "Ronald Cook :  682.09\n",
      "Mason Lewis :  846.84\n",
      "Denise Cardenas :  1331.1\n",
      "Charles Daniel :  673.1\n",
      "Mr. Benjamin Martin :  888.36\n",
      "Carlos Sherman :  1081.7\n",
      "Melinda Young :  1194.08\n",
      "Michael Clayton :  886.71\n",
      "William Mason :  958.03\n",
      "Rebecca Berry :  827.39\n",
      "Stephen Ashley :  1047.77\n",
      "Timothy Merritt :  708.87\n",
      "David Fisher :  667.29\n",
      "Morgan Scott :  1297.16\n",
      "Jessica Rivers :  2182.44\n",
      "Stephanie Morrow :  1151.11\n",
      "William David :  1098.52\n",
      "Peter Moore :  1087.83\n",
      "Aaron Wheeler :  1281.69\n",
      "Traci Green :  836.75\n",
      "William Larsen :  946.49\n",
      "Jacob Garcia :  964.82\n",
      "Heather Garcia :  642.18\n",
      "Erica Myers :  1046.02\n",
      "Robert Wood :  880.4\n",
      "Mr. Troy Watson :  1238.92\n",
      "Brian Olson :  648.31\n",
      "Scott Woodard :  606.03\n",
      "Jordan Green :  1256.35\n",
      "Troy Long :  2276.0\n",
      "Jonathan Rios :  614.37\n",
      "Natalie Young :  970.65\n",
      "Andrea Allen :  913.72\n",
      "Christine Coleman :  833.29\n",
      "Richard Werner :  774.77\n",
      "Jill Rubio :  1095.82\n",
      "Natasha Arnold :  1217.97\n",
      "Kyle Giles :  1367.61\n",
      "Katherine Preston :  1311.43\n",
      "Alexander Dominguez :  931.69\n",
      "Joel Hull :  1340.57\n",
      "Catherine Snyder :  1012.55\n",
      "Edward Davis :  1334.15\n",
      "Amanda Pena :  1062.31\n",
      "Stephen Elliott :  1197.31\n",
      "Olivia Howell :  1391.32\n",
      "Latoya Patel :  1375.38\n",
      "Cynthia Hall :  605.46\n",
      "Eric Fuentes :  854.62\n",
      "Peter Blanchard :  1021.11\n",
      "Jason Sexton :  1020.95\n",
      "Brandi Miller :  969.87\n",
      "Matthew Wiggins :  726.57\n",
      "Sharon Mclaughlin :  774.65\n",
      "Catherine Mitchell :  1343.16\n",
      "Deborah Miller MD :  1377.42\n",
      "George Ford :  1202.32\n",
      "Paul Watkins :  1178.88\n",
      "Catherine Miller :  1073.0\n",
      "Tristan Lee :  1279.08\n",
      "Stephanie Brown :  821.05\n",
      "Nancy Robertson :  1096.11\n",
      "Kevin Goodwin :  1111.42\n",
      "Benjamin Gonzalez :  696.65\n",
      "Dennis Lawson :  1207.02\n",
      "Nathaniel Peterson :  1265.11\n",
      "Mary Copeland :  614.2\n",
      "Jonathan Cannon :  609.9\n",
      "Brent Cox :  732.61\n",
      "John Mejia DDS :  1024.79\n",
      "William Thomas :  1366.25\n",
      "Jack Castro :  1077.29\n",
      "Brian Conner :  1177.99\n",
      "Rodney Rivera :  1357.85\n",
      "Gloria Lee :  699.46\n",
      "Rebecca Hill :  670.52\n",
      "Amber Miller :  850.98\n",
      "Nicole Gonzales :  815.26\n",
      "Mark Cervantes :  610.79\n",
      "Christine Collins :  1192.33\n",
      "Jennifer Foster :  1123.47\n",
      "Ryan Black :  654.06\n",
      "Cassandra Byrd :  1368.01\n",
      "Abigail Fry :  1210.02\n",
      "Lauren Keller :  1100.69\n",
      "John Forbes :  1181.88\n",
      "Leslie Cantrell :  983.12\n",
      "Patrick Howard :  1229.28\n",
      "Kenneth Blackburn :  651.72\n",
      "Holly Macdonald :  721.96\n",
      "Steven Maynard :  887.02\n",
      "Darius Solis :  777.33\n",
      "Debra Jones :  729.22\n",
      "Alexandra Lee DVM :  977.47\n",
      "Vanessa Peters :  951.13\n",
      "Sandra Brandt :  832.17\n",
      "Shawn Sullivan :  1352.57\n",
      "Alexander Payne :  1134.04\n",
      "Dylan Kim :  862.59\n",
      "Ashley Green :  1122.89\n",
      "Marilyn Gardner :  1104.05\n",
      "Rachel Donaldson :  989.62\n",
      "Gary Thomas :  884.02\n",
      "Jade Garcia :  1204.91\n",
      "Angela Tran :  880.22\n",
      "Cynthia Gomez :  1011.24\n",
      "Leah Daniel :  660.25\n",
      "Joseph Cox :  1153.43\n",
      "Emily Moreno :  1006.98\n",
      "Breanna Hardin :  1310.32\n",
      "Mr. John Richardson Jr. :  1324.79\n",
      "Jeffery Carpenter :  973.48\n",
      "Steven Nelson :  1166.57\n",
      "Rachel Wolf :  1324.3\n",
      "Debra Myers :  1351.73\n",
      "Richard Welch :  683.99\n",
      "Lisa Bennett :  710.0\n",
      "Alexander Novak :  756.9\n",
      "Monique King :  1142.47\n",
      "Eric Hernandez :  943.88\n",
      "Richard Tucker :  1394.7\n",
      "Bianca Cole :  992.01\n",
      "Ashley Ramirez :  1010.64\n",
      "Cynthia Lawrence :  617.37\n",
      "Noah Townsend :  1051.4\n",
      "Tracey Green :  1208.58\n",
      "Corey Peck :  799.53\n",
      "Whitney Boyer :  693.61\n",
      "Tammy Snyder :  1076.52\n",
      "Evan Nelson :  697.55\n",
      "Alicia Walsh :  625.55\n",
      "Wendy Gordon :  697.8\n",
      "Penny Bell :  973.23\n",
      "Timothy Wilkins :  1352.71\n",
      "Mark Underwood :  993.33\n",
      "Tiffany Gilbert :  1102.11\n",
      "Donna Padilla :  1139.89\n",
      "Kevin Hill :  1224.87\n",
      "John Nelson :  696.45\n",
      "Mr. Robert Nelson :  957.08\n",
      "Danielle Michael :  1102.67\n",
      "Jack Adams :  645.22\n",
      "Kelly Mccullough :  738.36\n",
      "Nicholas Roberts :  720.07\n",
      "Kimberly Mitchell :  1300.35\n",
      "Ricky Jackson :  698.29\n",
      "Peter Nichols :  1161.28\n",
      "Mary Lane :  638.0\n",
      "Christopher Simon :  1182.87\n",
      "Helen Holloway :  1366.82\n",
      "Evan Ramirez :  988.99\n",
      "Garrett Weber :  891.54\n",
      "Melissa Olson :  675.29\n",
      "Crystal Sanchez PhD :  701.29\n",
      "Christy Cummings :  1226.01\n",
      "Rachel Beasley :  786.28\n",
      "Katherine Knight :  686.24\n",
      "Miguel Young :  764.67\n",
      "Corey Solomon :  858.73\n",
      "Anne Roberts :  1215.88\n",
      "Nathan Case :  1014.86\n",
      "Elizabeth Ross :  957.93\n",
      "Mary Gray :  755.13\n",
      "Debbie Osborne :  699.82\n",
      "Linda Sanchez :  922.19\n",
      "Janice Navarro :  1146.02\n",
      "Cassie Johnson :  1072.61\n",
      "Ariel Burke :  1290.99\n",
      "Jose Duncan :  961.21\n",
      "Robert Garrison :  1235.59\n",
      "Robert Perry :  1051.82\n",
      "Mrs. Lauren Joseph DDS :  1175.02\n",
      "Kylie Sanchez :  1150.56\n",
      "David Benson :  1330.4\n",
      "Andres Stewart :  1375.97\n",
      "Amy Baker :  828.24\n",
      "Lauren Mccarthy :  866.19\n",
      "Rebecca Mack :  1234.55\n",
      "Sarah Hill :  772.17\n",
      "Morgan Beard :  635.57\n",
      "Mary Brewer :  1122.44\n",
      "April Douglas :  1231.89\n",
      "Adam Johnson :  753.92\n",
      "Peter Green :  846.09\n",
      "Robert Clark :  632.63\n",
      "Alexandra Jackson :  1240.0\n",
      "Nathan Johnson :  971.97\n",
      "Eric Pittman :  1201.95\n",
      "Sarah Green :  1266.05\n",
      "Edward Vega :  1104.69\n",
      "Nicholas Walker :  907.13\n",
      "Regina Kramer :  1205.78\n",
      "Charles Hull :  1143.78\n",
      "Larry Macias :  938.85\n",
      "Janice Davis :  717.48\n",
      "Paul Estrada :  771.65\n",
      "Courtney Reid :  901.42\n",
      "Francisco Dawson :  1253.75\n",
      "Meagan Flores :  1369.27\n",
      "Ross Meyer :  1154.85\n",
      "David Bruce :  847.75\n",
      "Micheal Stewart :  626.66\n",
      "Ashley Fields :  2214.98\n",
      "Stephanie Harrell :  683.3\n",
      "Audrey Evans :  1757.1399999999999\n",
      "Eugene Clark :  1214.59\n",
      "Suzanne Shelton :  1082.58\n",
      "Kelly Robinson :  1147.59\n",
      "Anthony Jordan :  1278.11\n",
      "Stacie Bender :  1143.49\n",
      "Nina Cowan :  833.85\n",
      "Joy Clark :  827.84\n",
      "Emma Williams :  617.64\n",
      "Erik Sellers :  1176.57\n",
      "Ricky Carter :  935.74\n",
      "Robert Mccullough :  1104.69\n",
      "Bonnie Johnson :  888.1\n",
      "Taylor Reyes :  725.75\n",
      "Jaclyn Harper :  645.46\n",
      "Daniel Morgan :  1295.26\n",
      "Ruth Lopez :  742.39\n",
      "Scott Vega :  691.13\n",
      "Connie Farmer :  736.91\n",
      "Gary Baker :  1388.2\n",
      "Robert Ingram :  831.57\n",
      "Scott Sharp :  753.4\n",
      "Samantha Sparks :  1292.31\n",
      "Greg Nelson :  1301.83\n",
      "Daniel Davis :  1146.53\n",
      "Andrea Murphy MD :  820.46\n",
      "Rebecca Wallace :  1165.72\n",
      "Tara Morrow :  920.74\n",
      "Chad Hansen :  678.75\n",
      "Lisa Ellis :  1026.22\n",
      "Ms. Katherine Mathews MD :  640.2\n",
      "Sabrina Hess :  1174.26\n",
      "John Gilbert :  877.54\n",
      "Shannon Harris :  1009.39\n",
      "Mark Mcguire :  1046.97\n",
      "Eddie Cook :  706.16\n",
      "Phillip Heath :  1223.94\n",
      "Shannon Martin :  1331.94\n",
      "Rita Weber :  1083.67\n",
      "Jennifer Gibson :  641.91\n",
      "Kimberly Hernandez :  1228.39\n",
      "Matthew Walsh :  663.44\n",
      "Jonathan Washington :  1019.93\n",
      "Mary Goodwin :  1281.79\n",
      "Samuel Johnson :  972.94\n",
      "Bryce Rodriguez PhD :  1173.66\n",
      "William Doyle :  804.03\n",
      "Kathleen Morgan :  654.03\n",
      "Shawn Dunn :  903.26\n",
      "Lindsay Haley :  1104.01\n",
      "Megan Jenkins :  1128.54\n",
      "Kathleen Fields :  693.11\n",
      "Terri Johnson :  714.89\n",
      "Alejandro Jones :  1027.69\n",
      "Stephanie Lopez :  760.11\n",
      "Russell Mcneil :  709.67\n",
      "Brenda Case :  695.29\n",
      "Kyle Griffin :  1389.34\n",
      "Mary Kim :  830.0\n",
      "Jeffrey Henry :  895.4\n",
      "Casey Peterson :  1348.03\n",
      "Marvin Fuentes :  1089.65\n",
      "Michael Salazar :  781.97\n",
      "Steven Wilson :  997.97\n",
      "Kim Burnett :  851.13\n",
      "Tyler Cooper :  931.09\n",
      "Rebecca Howell :  993.71\n",
      "Catherine Fowler :  963.12\n",
      "Christy Thompson :  1125.63\n",
      "Ana Barber :  1225.82\n",
      "Darius Fletcher :  1026.81\n",
      "Seth Hanson :  1107.13\n",
      "Mark Griffin :  1224.07\n",
      "Claire Williams :  1326.48\n",
      "Abigail Pope :  827.14\n",
      "Joshua Robinson :  979.72\n",
      "Jean Gregory :  1394.3\n",
      "Monica Thomas :  818.96\n",
      "Kara Johnson :  709.21\n",
      "Kimberly Ellis :  1124.23\n",
      "John Price :  797.04\n",
      "Justin Hampton :  1187.14\n",
      "Justin House :  643.99\n",
      "Shelly Campbell :  911.81\n",
      "Johnny Davis :  1255.21\n",
      "David Massey :  1083.01\n",
      "Kyle Thompson :  918.51\n",
      "Brian Allison :  1051.39\n",
      "Jason Underwood :  1008.28\n",
      "Catherine Bauer :  1396.18\n",
      "Jennifer Chambers :  784.89\n",
      "Yvonne Ewing :  869.6\n",
      "Mitchell Lloyd :  789.42\n",
      "Morgan Spears :  653.92\n",
      "Denise Shea :  1096.96\n",
      "Isaac Simmons :  1381.08\n",
      "Dr. William Welch :  955.18\n",
      "Victor Schneider :  819.13\n",
      "Leah Frazier :  1117.74\n",
      "Joshua Simmons :  970.38\n",
      "Lisa Williams :  738.94\n",
      "Dr. Shane Patel :  846.73\n",
      "Michael Mcmillan :  622.19\n",
      "Jay Fernandez :  722.62\n",
      "Kirsten Pena :  978.35\n",
      "Dennis Hunt :  645.71\n",
      "Karen Rodriguez :  612.78\n",
      "Andre Harris :  1379.12\n",
      "Sonya Malone :  801.86\n",
      "Dana Pope :  1390.32\n",
      "Troy Ross :  818.97\n",
      "Mallory Webb :  1155.42\n",
      "Douglas Patel :  1359.14\n",
      "Rachel Johnson :  878.97\n",
      "Samantha Calhoun :  682.45\n",
      "Vincent Welch :  1287.68\n",
      "Jamie Allen MD :  737.3\n",
      "Robin Davis :  1122.3\n",
      "Nicholas Wagner :  922.58\n",
      "Maria Watson :  1159.0\n",
      "Jonathan Moses :  674.87\n",
      "Michelle Snow :  896.84\n"
     ]
    },
    {
     "name": "stdout",
     "output_type": "stream",
     "text": [
      "Patricia Alexander :  1131.42\n",
      "Daniel Phillips :  709.59\n",
      "Hannah Hernandez :  914.9\n",
      "Gina Kelly :  766.14\n",
      "Kelly Gould :  1380.36\n",
      "Darren Wheeler :  1272.23\n",
      "Daniel Aguirre :  1324.53\n",
      "Stephen Foster :  797.28\n",
      "Thomas Mitchell :  706.5\n",
      "Dr. Anthony Barnes PhD :  1019.89\n",
      "Logan Franklin :  888.26\n",
      "Michelle Nelson :  1062.74\n",
      "George Warren :  1229.0\n",
      "Susan Fletcher :  1046.12\n",
      "Nathan Warner :  621.22\n",
      "William Sanders :  781.21\n",
      "Brian Mosley :  1319.3\n",
      "Joseph Nguyen :  814.44\n",
      "Wendy Howell :  672.29\n",
      "Alex Dorsey :  1210.21\n",
      "Angelica Middleton :  1175.38\n",
      "Michelle Murray :  1053.03\n",
      "Matthew Barrett :  1271.51\n",
      "Mr. Michael Montgomery :  1218.56\n",
      "Aaron Brown :  897.8\n",
      "Sheri Gibbs :  1393.89\n",
      "Janice Holmes :  810.96\n",
      "Alan Johnson :  1112.43\n",
      "Amanda Salinas :  1051.46\n",
      "Deborah Rollins :  672.54\n",
      "Justin Figueroa :  754.53\n",
      "Linda Goodwin :  1137.92\n",
      "Donald Maldonado :  751.9\n",
      "Jerry Potter :  1167.9\n",
      "Kenneth Turner :  682.49\n",
      "Brian Evans :  728.62\n",
      "Jacob Cortez :  724.2\n",
      "Lawrence Graham :  722.4\n",
      "John Swanson :  701.9\n",
      "Christine Gray :  1087.89\n",
      "Kristina Jones :  1232.78\n",
      "Carolyn Carlson :  669.03\n",
      "Patrick Robinson :  984.06\n",
      "Steven Cisneros :  843.29\n",
      "Ryan Davis :  1180.53\n",
      "Brett Shields :  1085.76\n",
      "Andrea Greene :  1262.36\n",
      "Edward Fernandez :  1213.64\n",
      "Steven Gamble :  725.32\n",
      "Christian Price :  1280.29\n",
      "Derek Johnson :  1265.38\n",
      "Gregory Pruitt :  1342.77\n",
      "Robert Clements :  982.27\n",
      "Randall Hartman :  1033.49\n",
      "Phillip Davidson :  762.35\n",
      "Christina Martinez :  897.45\n",
      "Shawna Summers :  937.33\n",
      "Heather Ellis :  1326.63\n",
      "Monica Dorsey :  1026.08\n",
      "Julie Osborne :  1042.78\n",
      "Willie Arellano :  745.38\n",
      "Edward Smith :  1209.32\n",
      "Jose Madden :  1134.66\n",
      "Jacqueline Powell :  1226.95\n",
      "Paul Allen :  603.2\n",
      "Janice Spears :  1373.58\n",
      "Ethan Brown :  711.23\n",
      "Kathryn Hayes :  1268.29\n",
      "Mark Reynolds MD :  843.09\n",
      "Nathan Hernandez :  1319.91\n",
      "Kelly Shepard :  975.79\n",
      "Patrick Gardner :  652.62\n",
      "Ryan Walker :  606.06\n",
      "Sarah Riddle :  666.56\n",
      "Misty Orr :  1017.92\n",
      "Robert Zimmerman :  662.72\n",
      "Dennis Blevins :  1104.97\n",
      "Erika Hughes :  765.88\n",
      "Barry Cook :  865.18\n",
      "Erin Crawford :  1324.84\n",
      "Mary Ryan :  1072.57\n",
      "Monica Gates :  1240.02\n",
      "Hannah Valenzuela :  646.17\n",
      "Eric Adams :  984.1\n",
      "Nicole Burke :  791.21\n",
      "Andrea Armstrong :  1282.0\n",
      "Mary Green :  855.2\n",
      "Jessica Velasquez :  758.2\n",
      "Samantha Matthews :  624.22\n",
      "Amy Graham :  831.94\n",
      "Bruce Lane :  1143.41\n",
      "Ashley Hanson :  1394.4\n",
      "Terry Hall :  843.56\n",
      "Abigail Martinez :  1130.57\n",
      "Bruce Fields :  785.76\n",
      "Gregory Martinez :  650.8\n",
      "Alicia Lopez :  1134.75\n",
      "Timothy Martin :  733.88\n",
      "Jennifer Fields :  1324.13\n",
      "Raymond Richardson :  990.23\n",
      "James Kirby :  871.56\n",
      "Donald Campbell :  741.98\n",
      "Samuel Morris :  628.1\n",
      "Emily Frank :  1299.9\n",
      "Jill Lyons :  846.66\n",
      "Tyler Frey :  1099.77\n",
      "Rachel Brooks :  891.96\n",
      "Brittany Love :  860.23\n",
      "Kathryn Mason :  776.9\n",
      "Jason White :  1119.7\n",
      "Lisa Ray :  1254.44\n",
      "Phillip Jensen :  1054.19\n",
      "Brandon Green :  1153.23\n",
      "Stephanie Cervantes :  994.73\n",
      "Brittany Roman :  1481.4\n",
      "Jeanette Logan :  1005.94\n",
      "Cheryl Evans :  1073.2\n",
      "Amanda Peters :  1074.35\n",
      "Joshua Zimmerman :  813.51\n",
      "Joel Holmes :  782.53\n",
      "James Hart :  767.66\n",
      "Jennifer Love :  757.41\n",
      "Crystal Sanchez :  749.32\n",
      "Jeremiah Lopez :  1138.01\n",
      "Kathy Stewart :  839.4\n",
      "Andrea Bentley :  610.05\n",
      "Sara Smith :  1345.72\n",
      "Michael Swanson :  901.94\n",
      "Julie Mcdonald :  867.14\n",
      "Janice Thomas :  1142.9\n",
      "Alicia Lynch :  1930.1\n",
      "Ronald Patel :  1287.93\n",
      "Heather Bell :  969.72\n",
      "Jamie Hendrix :  990.41\n",
      "Patricia Stewart :  605.55\n",
      "Gina Davis :  1029.63\n",
      "Bruce Olson :  621.35\n",
      "Anthony Rivera :  1263.63\n",
      "Zachary Tran :  880.7\n",
      "Anne Doyle :  1380.18\n",
      "Kenneth Hall :  656.29\n",
      "Stephanie Rosales :  1035.44\n",
      "Charles Neal :  1357.67\n",
      "Leslie Adams :  1178.44\n",
      "Jordan Montoya :  691.25\n",
      "Tammie Alvarado :  635.38\n",
      "Craig Anderson :  610.24\n",
      "Raymond Davenport :  606.53\n",
      "Michele Le :  655.6\n",
      "Christopher Peterson :  770.73\n",
      "Sean Friedman :  1145.82\n",
      "Cameron Harris :  941.44\n",
      "Harry Davenport :  981.56\n",
      "Jessica Wilson :  710.3\n",
      "Marie Wu :  973.13\n",
      "Mary Watkins :  873.81\n",
      "Jake Herman :  1130.03\n",
      "Traci Brown :  700.12\n",
      "Casey Owens :  1107.31\n",
      "Victoria Singleton :  820.39\n",
      "Lauren Poole :  729.6\n",
      "Alexandra Boyd :  1202.9\n",
      "Collin Marshall :  1012.28\n",
      "Sherry Arnold :  998.85\n",
      "David Knox :  1106.68\n",
      "Dawn Lucas :  850.19\n",
      "Danny Shepherd :  1221.37\n",
      "Blake Smith :  1334.38\n",
      "Alicia Hobbs :  1146.6\n",
      "Julie Morris :  983.06\n",
      "Anthony Stanton :  1077.49\n",
      "Kimberly Freeman :  805.72\n",
      "Stephen Dixon :  803.68\n",
      "Jacqueline Rodriguez :  1350.01\n",
      "Taylor Conway :  644.88\n",
      "Robert Wheeler :  1336.87\n",
      "Dawn Lindsey :  1173.11\n",
      "Jennifer Cantrell :  1148.43\n",
      "Daniel Watson :  1234.04\n",
      "Kathy Stokes :  1303.16\n",
      "William Black :  1252.44\n",
      "Tina Mills :  753.14\n",
      "Natalie Carter :  762.04\n",
      "Matthew Livingston :  1336.56\n",
      "Jennifer Vaughn :  691.92\n",
      "Ashley Phillips :  890.08\n",
      "Rebecca Foster :  1249.31\n",
      "Anthony Clarke MD :  839.71\n",
      "Erik Compton :  1344.72\n",
      "Mario Briggs :  1212.01\n",
      "Gregory James :  1194.93\n",
      "Ryan Hernandez :  1250.08\n",
      "Anthony Crawford :  870.33\n",
      "Lisa Hodges :  1036.27\n",
      "Linda Martin :  1138.28\n",
      "Yolanda Cook :  827.24\n",
      "Andrea Cook :  884.5\n",
      "Crystal Hicks :  664.68\n",
      "Tony Christensen :  1098.88\n",
      "Kayla Hogan :  1039.78\n",
      "Alex Anderson :  1192.66\n",
      "Lisa Munoz :  695.83\n",
      "Susan Howell :  1136.21\n",
      "Melanie Morgan :  1308.68\n",
      "Rodney Williams :  670.91\n",
      "Taylor Estrada :  882.47\n",
      "Carrie Gallagher :  1086.01\n",
      "Mary Christian :  851.15\n",
      "Theresa Reyes :  639.54\n",
      "Krista Ruiz :  1189.25\n",
      "Jake Cox :  1254.32\n",
      "Alicia Mcdonald :  1326.02\n",
      "Connie Flynn :  1247.58\n",
      "Kelly Woods :  1032.12\n",
      "Anthony Rodgers :  748.32\n"
     ]
    }
   ],
   "source": [
    "for i in range(len(df.name.unique())):\n",
    "    temp = df[df.name == df.name.unique()[i]]\n",
    "    if temp.transaction_amount.sum()  > 0.0:\n",
    "        \n",
    "        print(df.name.unique()[i], ': ', temp.transaction_amount.sum() )\n",
    "# for val, row in df.iterrows():\n",
    "#     df.name.unique()"
   ]
  },
  {
   "cell_type": "code",
   "execution_count": 62,
   "metadata": {},
   "outputs": [
    {
     "name": "stdout",
     "output_type": "stream",
     "text": [
      "average revenue per recipient:  49.01722594329091\n"
     ]
    }
   ],
   "source": [
    "#average revenue per recipient\n",
    "print('average revenue per recipient: ', df.transaction_amount.sum()/df.name.nunique())"
   ]
  },
  {
   "cell_type": "code",
   "execution_count": 64,
   "metadata": {},
   "outputs": [
    {
     "name": "stdout",
     "output_type": "stream",
     "text": [
      "average revenue per email:  20.86017767642937\n"
     ]
    }
   ],
   "source": [
    "#average revenue per email sent\n",
    "print('average revenue per email: ', df.transaction_amount.sum()/df.name.count())"
   ]
  },
  {
   "cell_type": "code",
   "execution_count": 215,
   "metadata": {
    "scrolled": true
   },
   "outputs": [
    {
     "data": {
      "text/plain": [
       "email_name\n",
       "Email 2 - Offers tailored just for you                                        531259.45\n",
       "Email 1 - Welcome to Wanderlust Adventures                                    177967.20\n",
       "Email 3 - Don’t miss out on your next adventures, book now and get 20% off    123289.49\n",
       "Email 4 - Thanks for choosing Wanderlust Adventures                            45676.48\n",
       "Name: transaction_amount, dtype: float64"
      ]
     },
     "execution_count": 215,
     "metadata": {},
     "output_type": "execute_result"
    }
   ],
   "source": [
    "#revenue by email \n",
    "df.groupby('email_name')['transaction_amount'].sum().sort_values(ascending=False)"
   ]
  },
  {
   "cell_type": "code",
   "execution_count": 69,
   "metadata": {},
   "outputs": [
    {
     "name": "stdout",
     "output_type": "stream",
     "text": [
      "average revenue per email name:  email_name\n",
      "Email 1 - Welcome to Wanderlust Adventures                                     4.227350\n",
      "Email 2 - Offers tailored just for you                                        12.619289\n",
      "Email 3 - Don’t miss out on your next adventures, book now and get 20% off     2.928561\n",
      "Email 4 - Thanks for choosing Wanderlust Adventures                            1.084978\n",
      "Name: transaction_amount, dtype: float64\n"
     ]
    }
   ],
   "source": [
    "#average revenue per email broken out by email template\n",
    "print('average revenue per email name: ',df.groupby('email_name')['transaction_amount'].sum()/df.name.count())"
   ]
  },
  {
   "cell_type": "code",
   "execution_count": 74,
   "metadata": {},
   "outputs": [
    {
     "name": "stdout",
     "output_type": "stream",
     "text": [
      "open_year\n",
      "2022.0    199869.58\n",
      "2021.0    187024.14\n",
      "2019.0    182697.71\n",
      "2020.0    173078.44\n",
      "2023.0    135522.75\n",
      "Name: transaction_amount, dtype: float64\n"
     ]
    },
    {
     "data": {
      "image/png": "[encoded data removed]",
      "text/plain": [
       "<Figure size 432x288 with 1 Axes>"
      ]
     },
     "metadata": {
      "needs_background": "light"
     },
     "output_type": "display_data"
    }
   ],
   "source": [
    "#revenue by year\n",
    "rev_per_year = df.groupby('open_year')['transaction_amount'].sum().sort_values(ascending=False)\n",
    "print(rev_per_year)\n",
    "plt.bar(rev_per_year.keys(), rev_per_year)\n",
    "plt.title(\"overall revenue by year\")\n",
    "plt.show()"
   ]
  },
  {
   "cell_type": "code",
   "execution_count": null,
   "metadata": {},
   "outputs": [],
   "source": []
  },
  {
   "cell_type": "code",
   "execution_count": null,
   "metadata": {},
   "outputs": [],
   "source": []
  },
  {
   "cell_type": "code",
   "execution_count": 77,
   "metadata": {
    "scrolled": false
   },
   "outputs": [
    {
     "name": "stdout",
     "output_type": "stream",
     "text": [
      "month\n",
      "7.0     92876.29\n",
      "4.0     83891.35\n",
      "8.0     83010.92\n",
      "9.0     81612.32\n",
      "5.0     78498.59\n",
      "6.0     77294.71\n",
      "3.0     72205.45\n",
      "1.0     71708.87\n",
      "10.0    69534.19\n",
      "12.0    57929.24\n",
      "2.0     55885.39\n",
      "11.0    53745.30\n",
      "Name: transaction_amount, dtype: float64\n"
     ]
    },
    {
     "data": {
      "image/png": "[encoded data removed]",
      "text/plain": [
       "<Figure size 432x288 with 1 Axes>"
      ]
     },
     "metadata": {
      "needs_background": "light"
     },
     "output_type": "display_data"
    }
   ],
   "source": [
    "#revenue by month\n",
    "\n",
    "rev_per_month = df.groupby('month')['transaction_amount'].sum().sort_values(ascending=False)\n",
    "print(rev_per_month)\n",
    "plt.bar(rev_per_month.keys(), rev_per_month)\n",
    "plt.title(\"overall revenue by month\")\n",
    "plt.show()"
   ]
  },
  {
   "cell_type": "code",
   "execution_count": null,
   "metadata": {},
   "outputs": [],
   "source": []
  },
  {
   "cell_type": "code",
   "execution_count": null,
   "metadata": {},
   "outputs": [],
   "source": []
  },
  {
   "cell_type": "code",
   "execution_count": 310,
   "metadata": {},
   "outputs": [
    {
     "data": {
      "text/plain": [
       "year    month  email_name                                                                \n",
       "2019.0  1.0    Email 1 - Welcome to Wanderlust Adventures                                      780.65\n",
       "               Email 2 - Offers tailored just for you                                         3812.28\n",
       "        2.0    Email 1 - Welcome to Wanderlust Adventures                                     1015.24\n",
       "               Email 2 - Offers tailored just for you                                         5053.64\n",
       "               Email 3 - Don’t miss out on your next adventures, book now and get 20% off     2544.37\n",
       "                                                                                               ...   \n",
       "2023.0  8.0    Email 2 - Offers tailored just for you                                        15794.64\n",
       "               Email 3 - Don’t miss out on your next adventures, book now and get 20% off     4041.16\n",
       "        9.0    Email 1 - Welcome to Wanderlust Adventures                                     2897.35\n",
       "               Email 2 - Offers tailored just for you                                         8163.85\n",
       "               Email 3 - Don’t miss out on your next adventures, book now and get 20% off     1484.66\n",
       "Name: transaction_amount, Length: 196, dtype: float64"
      ]
     },
     "execution_count": 310,
     "metadata": {},
     "output_type": "execute_result"
    }
   ],
   "source": [
    "#revenue per email by month\n",
    "df.groupby(['year','month', 'email_name'])['transaction_amount'].sum()\n"
   ]
  },
  {
   "cell_type": "code",
   "execution_count": 333,
   "metadata": {},
   "outputs": [
    {
     "name": "stdout",
     "output_type": "stream",
     "text": [
      "count     893.000000\n",
      "mean      983.418387\n",
      "std       240.818800\n",
      "min         0.000000\n",
      "25%       777.330000\n",
      "50%       983.710000\n",
      "75%      1186.340000\n",
      "max      1398.580000\n",
      "Name: transaction_amount, dtype: float64\n"
     ]
    },
    {
     "data": {
      "image/png": "[encoded data removed]",
      "text/plain": [
       "<Figure size 1008x576 with 1 Axes>"
      ]
     },
     "metadata": {
      "needs_background": "light"
     },
     "output_type": "display_data"
    }
   ],
   "source": [
    "#revenue by day\n",
    "rev_by_day = df.groupby('transaction_date')['transaction_amount'].sum().sort_values(ascending=False)\n",
    "plt.figure(figsize=(14,8))\n",
    "print(rev_by_day.describe())\n",
    "plt.bar(rev_by_day.keys(), rev_by_day, width=2)\n",
    "plt.show()"
   ]
  },
  {
   "cell_type": "code",
   "execution_count": 335,
   "metadata": {
    "scrolled": true
   },
   "outputs": [
    {
     "name": "stdout",
     "output_type": "stream",
     "text": [
      "hour\n",
      "13.0    50098.65\n",
      "23.0    44617.16\n",
      "7.0     44344.48\n",
      "8.0     42898.64\n",
      "10.0    42865.74\n",
      "18.0    41446.89\n",
      "2.0     40348.75\n",
      "1.0     38389.77\n",
      "4.0     38057.40\n",
      "19.0    37890.88\n",
      "20.0    37698.11\n",
      "11.0    37308.35\n",
      "9.0     37122.68\n",
      "3.0     36904.06\n",
      "22.0    36736.83\n",
      "12.0    35737.12\n",
      "5.0     34316.36\n",
      "17.0    32672.73\n",
      "16.0    31890.80\n",
      "0.0     29728.93\n",
      "6.0     29258.82\n",
      "14.0    28916.58\n",
      "21.0    25309.53\n",
      "15.0    23633.36\n",
      "Name: transaction_amount, dtype: float64\n"
     ]
    },
    {
     "data": {
      "image/png": "[encoded data removed]",
      "text/plain": [
       "<Figure size 432x288 with 1 Axes>"
      ]
     },
     "metadata": {
      "needs_background": "light"
     },
     "output_type": "display_data"
    }
   ],
   "source": [
    "#Revenue by hour\n",
    "\n",
    "rev_per_year = df.groupby('hour')['transaction_amount'].sum().sort_values(ascending=False)\n",
    "print(rev_per_year)\n",
    "plt.bar(rev_per_year.keys(), rev_per_year)\n",
    "plt.show()"
   ]
  },
  {
   "cell_type": "code",
   "execution_count": 339,
   "metadata": {},
   "outputs": [],
   "source": [
    "#lets figure out time to open \n",
    "\n",
    "df['time_to_open'] = df.open_date - df.sent_date"
   ]
  },
  {
   "cell_type": "code",
   "execution_count": 340,
   "metadata": {
    "scrolled": true
   },
   "outputs": [
    {
     "data": {
      "text/plain": [
       "count                     34832\n",
       "mean     0 days 00:29:58.249885\n",
       "std      0 days 00:17:01.564917\n",
       "min             0 days 00:01:00\n",
       "25%             0 days 00:15:00\n",
       "50%             0 days 00:30:00\n",
       "75%             0 days 00:45:00\n",
       "max             0 days 00:59:00\n",
       "Name: time_to_open, dtype: object"
      ]
     },
     "execution_count": 340,
     "metadata": {},
     "output_type": "execute_result"
    }
   ],
   "source": [
    "df.time_to_open.describe()\n"
   ]
  }
 ],
 "metadata": {
  "kernelspec": {
   "display_name": "Python 3",
   "language": "python",
   "name": "python3"
  },
  "language_info": {
   "codemirror_mode": {
    "name": "ipython",
    "version": 3
   },
   "file_extension": ".py",
   "mimetype": "text/x-python",
   "name": "python",
   "nbconvert_exporter": "python",
   "pygments_lexer": "ipython3",
   "version": "3.8.3"
  },
  "toc": {
   "base_numbering": 1,
   "nav_menu": {},
   "number_sections": true,
   "sideBar": true,
   "skip_h1_title": false,
   "title_cell": "Table of Contents",
   "title_sidebar": "Contents",
   "toc_cell": false,
   "toc_position": {},
   "toc_section_display": true,
   "toc_window_display": false
  }
 },
 "nbformat": 4,
 "nbformat_minor": 4
}
